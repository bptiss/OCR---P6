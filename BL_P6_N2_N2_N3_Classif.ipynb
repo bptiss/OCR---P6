{
 "cells": [
  {
   "cell_type": "markdown",
   "id": "fa23661a-703a-4041-8b84-6ef96f1b8032",
   "metadata": {
    "id": "97ef888e-7495-4050-80b3-9384f2c46f2b"
   },
   "source": [
    "<div style=\"display: flex; background-color: #196f3d;\">\n",
    "    <h1 style=\"margin: auto; font-weight: bold; padding: 30px 30px 0px 30px; color:#fff;\" align=\"center\">Automatically classify consumer goods - P6</h1>\n",
    "</div>\n",
    "<div style=\"display: flex; background-color: #196f3d; margin: auto; padding: 5px 30px 0px 30px;\" >\n",
    "    <h3 style=\"width: 100%; text-align: center; float: left; font-size: 24px; color:#fff;\" align=\"center\">| Classification Notebook |</h3>\n",
    "</div>\n",
    "<div style=\"display: flex; background-color: #196f3d; margin: auto; padding: 30px 30px 0px 30px;\">\n",
    "    <h4 style=\"width: 100%; text-align: center; color:white; float: left; font-size: 24px;\" align=\"center\">Baptiste LEDESERT</h4>\n",
    "</div>\n",
    "<div style=\"display: flex; background-color: #196f3d; margin: auto; padding: 0px 30px 30px 30px;\">\n",
    "    <h4 style=\"width: 100%; text-align: center; color:white; float: left; font-size: 24px;\" align=\"center\">Data Scientist course - OpenClassrooms</h4>\n",
    "</div>"
   ]
  },
  {
   "cell_type": "markdown",
   "id": "89a87296-40a9-4f3d-9690-e3ddbbbf0a56",
   "metadata": {
    "id": "e9575b91-c869-43af-834e-e853925dcf5f"
   },
   "source": [
    "<div style=\"background-color: #229954;\" >\n",
    "    <h2 style=\"margin: auto; padding: 20px; color:#fff; \">1. Libraries and functions</h2>\n",
    "</div>"
   ]
  },
  {
   "cell_type": "markdown",
   "id": "5b22af77-7a39-44d4-87a9-5b934f840080",
   "metadata": {},
   "source": [
    "<div style=\"background-color: #52be80;\" >\n",
    "    <h3 style=\"margin: auto; padding: 20px; color:#fff; \">1.1. Libraries and functions</h3>\n",
    "</div>"
   ]
  },
  {
   "cell_type": "code",
   "execution_count": 286,
   "id": "01b1bc46-dbdc-4606-aec4-abcaccf4cad0",
   "metadata": {
    "colab": {
     "base_uri": "https://localhost:8080/"
    },
    "executionInfo": {
     "elapsed": 43235,
     "status": "ok",
     "timestamp": 1684518529272,
     "user": {
      "displayName": "raquel sanchez-pellicer",
      "userId": "01837362977323571967"
     },
     "user_tz": -120
    },
    "id": "01b1bc46-dbdc-4606-aec4-abcaccf4cad0",
    "outputId": "9439b4be-d916-47ea-f6b3-fc283afd363e",
    "tags": []
   },
   "outputs": [
    {
     "name": "stdout",
     "output_type": "stream",
     "text": [
      "Librairies version : \n",
      "\n",
      "Pandas      : 2.0.3\n",
      "NumPy       : 1.25.2\n",
      "Csv         : 1.0\n",
      "\n",
      "Matplotlib  : 3.7.2\n",
      "Seaborn     : 0.12.2\n",
      "\n",
      "Launched on : 2024-03-26T11:58:15.520814\n"
     ]
    }
   ],
   "source": [
    "# Builtin\n",
    "import os\n",
    "import shutil \n",
    "import glob\n",
    "import pandas as pd\n",
    "import numpy as np\n",
    "import csv\n",
    "import time\n",
    "import datetime\n",
    "from math import pi\n",
    "import re\n",
    "import tensorflow as tf\n",
    "from tensorflow.keras.models import Model, Sequential\n",
    "from tensorflow.keras import backend as K\n",
    "from tensorflow.keras import metrics as kmetrics\n",
    "from pathlib import Path\n",
    "\n",
    "# Traitement image\n",
    "import cv2\n",
    "import PIL\n",
    "from PIL import Image, ImageOps, ImageFilter\n",
    "\n",
    "# Implementation VGG-16\n",
    "from sklearn.model_selection import train_test_split\n",
    "from sklearn.metrics import accuracy_score, auc, roc_auc_score, roc_curve, precision_recall_fscore_support\n",
    "from sklearn import preprocessing\n",
    "from tensorflow.keras.layers import GlobalAveragePooling2D, GlobalAveragePooling1D, Flatten, Dense, Dropout\n",
    "from tensorflow.keras.layers import Rescaling, RandomFlip, RandomRotation, RandomZoom\n",
    "from tensorflow.keras.callbacks import EarlyStopping, ModelCheckpoint\n",
    "from tensorflow.keras.applications.vgg16 import VGG16\n",
    "from tensorflow.keras.applications.vgg16 import preprocess_input\n",
    "from tensorflow.keras.preprocessing.image import load_img, img_to_array\n",
    "from tensorflow.keras.utils import to_categorical\n",
    "from tensorflow.keras.utils import plot_model\n",
    "from plot_keras_history import show_history, plot_history\n",
    "\n",
    "\n",
    "# Data visualisation\n",
    "import matplotlib as mpl\n",
    "import matplotlib.pyplot as plt\n",
    "from matplotlib.image import imread\n",
    "%matplotlib inline\n",
    "import seaborn as sns\n",
    "from PIL import Image\n",
    "\n",
    "# Data agumentation\n",
    "from tensorflow.keras.preprocessing.image import ImageDataGenerator\n",
    "\n",
    "# Réduction dimensions\n",
    "from sklearn import manifold, decomposition\n",
    "from sklearn.manifold import TSNE\n",
    "\n",
    "# Clustering\n",
    "from sklearn.cluster import KMeans, MiniBatchKMeans\n",
    "from sklearn import metrics\n",
    "from sklearn.metrics import confusion_matrix, classification_report\n",
    "from sklearn.metrics.cluster import adjusted_rand_score, homogeneity_score, completeness_score, v_measure_score\n",
    "\n",
    "\n",
    "'''\n",
    "# -------------------------------------------------------------\n",
    "# Checking the version numbers of the installed packages\n",
    "# -------------------------------------------------------------\n",
    "'''\n",
    "print('Librairies version : \\n')\n",
    "\n",
    "print('Pandas      : ' + pd.__version__)\n",
    "print('NumPy       : ' + np.version.full_version)\n",
    "print('Csv         : ' + csv.__version__ + '\\n')\n",
    "\n",
    "print('Matplotlib  : ' + mpl.__version__)\n",
    "print('Seaborn     : ' + sns.__version__ + '\\n')\n",
    "\n",
    "now = datetime.datetime.now().isoformat()\n",
    "print('Launched on : ' + now)"
   ]
  },
  {
   "cell_type": "code",
   "execution_count": 182,
   "id": "579d6cf0-0ed7-42ea-bd32-9bd098be2877",
   "metadata": {
    "executionInfo": {
     "elapsed": 7,
     "status": "ok",
     "timestamp": 1684518529272,
     "user": {
      "displayName": "raquel sanchez-pellicer",
      "userId": "01837362977323571967"
     },
     "user_tz": -120
    },
    "id": "579d6cf0-0ed7-42ea-bd32-9bd098be2877"
   },
   "outputs": [],
   "source": [
    "# --------------------------------------------------------------------\n",
    "# Analyse en composantes principales - Réduction de dimension\n",
    "# --------------------------------------------------------------------\n",
    "\n",
    "def reduire_dimension_acp(matrice, n_components=0):\n",
    "    '''\n",
    "    Analyse en composante principale\n",
    "    Parameters\n",
    "    ----------\n",
    "    matrice : Variable à analyser, obligatoire\n",
    "    n_components : nombre de composants pour la réduction de dimension\n",
    "    exemple :  PC1/PC2 et PC3/PC4 ==> [(0, 1), (2, 3)], obligatoire\n",
    "    affiche_graph : affiche les autres graphiques ; éboulis, distribution...\n",
    "    Returns\n",
    "    -------\n",
    "    None.\n",
    "    '''\n",
    "    # Sélection des colonnes pour l'ACP\n",
    "    cols_acp = matrice.columns.to_list()\n",
    "    # Nombre de composantes\n",
    "    if n_components == 0:\n",
    "        n_comp = len(cols_acp)\n",
    "    else:\n",
    "        n_comp = n_components\n",
    "\n",
    "    # Calcul des composantes principales\n",
    "    pca = decomposition.PCA(n_components=n_comp)\n",
    "    pca.fit(matrice)\n",
    "\n",
    "    # quel est le pourcentage de variance préservé par chacune de\n",
    "    # nos composantes?\n",
    "    variances = pca.explained_variance_ratio_\n",
    "\n",
    "    # quelle est la somme cumulée de chacune de ces variances?\n",
    "    meilleur_dims = np.cumsum(variances)\n",
    "\n",
    "    # on va trouver le moment où on atteint 90% ou 95% entre réduire au maxi\n",
    "    # où garder au maxi\n",
    "\n",
    "    # argmax pour > 90 %\n",
    "    best90 = np.argmax(meilleur_dims > 0.9)\n",
    "\n",
    "    # argmax pour > 95 %\n",
    "    best = np.argmax(meilleur_dims > 0.95)\n",
    "\n",
    "    display(f'Nombre de composantes expliquant 90% de la variance : {best90}')\n",
    "    display(f'Nombre de composantes expliquant 95% de la variance : {best}')"
   ]
  },
  {
   "cell_type": "code",
   "execution_count": 183,
   "id": "bfcf83cb-dccd-4dd0-91b5-dbcf010eeb5c",
   "metadata": {
    "executionInfo": {
     "elapsed": 6,
     "status": "ok",
     "timestamp": 1684518529272,
     "user": {
      "displayName": "raquel sanchez-pellicer",
      "userId": "01837362977323571967"
     },
     "user_tz": -120
    },
    "id": "bfcf83cb-dccd-4dd0-91b5-dbcf010eeb5c",
    "run_control": {
     "marked": true
    }
   },
   "outputs": [],
   "source": [
    "cols = [\"VAR1\", \"VAR2\"]"
   ]
  },
  {
   "cell_type": "code",
   "execution_count": 184,
   "id": "b30b8528-4607-4fef-9a4e-dd5fd3132e1f",
   "metadata": {
    "executionInfo": {
     "elapsed": 7,
     "status": "ok",
     "timestamp": 1684518529273,
     "user": {
      "displayName": "raquel sanchez-pellicer",
      "userId": "01837362977323571967"
     },
     "user_tz": -120
    },
    "id": "b30b8528-4607-4fef-9a4e-dd5fd3132e1f",
    "run_control": {
     "marked": true
    }
   },
   "outputs": [],
   "source": [
    "# Dataframe de sauvegarde des résultats des métriques KMeans\n",
    "df_metrics_kmeans = pd.DataFrame()"
   ]
  },
  {
   "cell_type": "code",
   "execution_count": 185,
   "id": "b73a0589-2dc9-4c44-b4d9-b82121751fd5",
   "metadata": {
    "executionInfo": {
     "elapsed": 7,
     "status": "ok",
     "timestamp": 1684518529273,
     "user": {
      "displayName": "raquel sanchez-pellicer",
      "userId": "01837362977323571967"
     },
     "user_tz": -120
    },
    "id": "b73a0589-2dc9-4c44-b4d9-b82121751fd5",
    "tags": []
   },
   "outputs": [],
   "source": [
    "# --------------------------------------------------------------------\n",
    "# -- CALCUL DES METRIQUES K-Means\n",
    "# --------------------------------------------------------------------\n",
    "\n",
    "def calcul_metrics_kmeans(data, dataframe_metrique, type_donnees,\n",
    "                          random_seed, ninit, maxiter):\n",
    "    '''\n",
    "    Calcul des métriques de KMeans en fonction de différents paramètres.\n",
    "    Parameters\n",
    "    ----------\n",
    "    data : données, obligatoire.\n",
    "    dataframe_metrique : dataframe de sauvegarde des résultats, obligatoire.\n",
    "    type_donnees : string intitulé des données, obligatoire.\n",
    "    random_seed : nombre aléatoire pour la reproductibilité, obligatoire.\n",
    "    ninit : nombre de clusters à initialiser, obligatoire.\n",
    "    maxiter : type d'initialisation : 'k-means++' ou 'random'.\n",
    "    Returns\n",
    "    -------\n",
    "    dataframe_metrique : résultat des métriques\n",
    "    '''\n",
    "    # Cette fonction permet de calculer le nombre de clusters le plus\n",
    "    # optimal pour notre analyse : le coefficient de silhouette,\n",
    "    # dispersion, indice de davies_bouldin\n",
    "    silhouette = []\n",
    "    dispersion = []\n",
    "    davies_bouldin = []\n",
    "    donnees = []\n",
    "    temps = []\n",
    "\n",
    "    result_ninit = []\n",
    "    result_maxiter = []\n",
    "\n",
    "    # Hyperparametre tuning\n",
    "\n",
    "    ninit = ninit\n",
    "    maxiter = maxiter\n",
    "\n",
    "    # Recherche des hyperparamètres\n",
    "    for var_ninit in ninit:\n",
    "\n",
    "        for var_maxiter in maxiter:\n",
    "\n",
    "            # Top début d'exécution\n",
    "            time_start = time.time()\n",
    "\n",
    "            # Initialisation de l'algorithme\n",
    "            cls = KMeans(n_clusters=7,\n",
    "                         n_init=var_ninit,\n",
    "                         init='k-means++',\n",
    "                         max_iter=var_maxiter,\n",
    "                         random_state=random_seed)\n",
    "\n",
    "            # Entraînement de l'algorithme\n",
    "            cls.fit(data)\n",
    "\n",
    "            # Prédictions\n",
    "            preds = cls.predict(data)\n",
    "\n",
    "            # Top fin d'exécution\n",
    "            time_end = time.time()\n",
    "\n",
    "            # Calcul du score de coefficient de silhouette\n",
    "            silh = metrics.silhouette_score(data, preds)\n",
    "            # Calcul la dispersion\n",
    "            disp = cls.inertia_\n",
    "            # Calcul de l'indice davies-bouldin\n",
    "            db = metrics.davies_bouldin_score(data, preds)\n",
    "            # Durée d'exécution\n",
    "            time_execution = time_end - time_start\n",
    "\n",
    "            silhouette.append(silh)\n",
    "            dispersion.append(disp)\n",
    "            davies_bouldin.append(db)\n",
    "            donnees.append(type_donnees)\n",
    "            temps.append(time_execution)\n",
    "\n",
    "            result_ninit.append(var_ninit)\n",
    "            result_maxiter.append(var_maxiter)\n",
    "\n",
    "    dataframe_metrique = dataframe_metrique.append(pd.DataFrame({\n",
    "        'Type_données': donnees,\n",
    "        'n_init': result_ninit,\n",
    "        'max_iter': result_maxiter,\n",
    "        'coef_silh': silhouette,\n",
    "        'dispersion': dispersion,\n",
    "        'davies_bouldin': davies_bouldin,\n",
    "        'Durée (s)': temps\n",
    "    }), ignore_index=True)\n",
    "\n",
    "    return dataframe_metrique"
   ]
  },
  {
   "cell_type": "code",
   "execution_count": 186,
   "id": "598a5e47-6604-42ac-9953-fb43ae98f27b",
   "metadata": {
    "executionInfo": {
     "elapsed": 7,
     "status": "ok",
     "timestamp": 1684518529274,
     "user": {
      "displayName": "raquel sanchez-pellicer",
      "userId": "01837362977323571967"
     },
     "user_tz": -120
    },
    "id": "598a5e47-6604-42ac-9953-fb43ae98f27b",
    "tags": []
   },
   "outputs": [],
   "source": [
    "# --------------------------------------------------------------------\n",
    "# SCATTERPLOT DE VISUALISATION DE TRANSFORMATION T-SNE en 2D\n",
    "# --------------------------------------------------------------------\n",
    "def affiche_tsne(results_list, liste_param, alpha=0.1):\n",
    "    '''\n",
    "    Affiche les résultats de la transformation Lt-SNE\n",
    "    -----------\n",
    "    @ Parameters\n",
    "    * results_list : iste des résultats de la transformation t-SNE\n",
    "    * liste_param : liste des valeurs de l'hyper paramètre perplexity testées\n",
    "\n",
    "    -----------\n",
    "    @ Returns\n",
    "    * Scatterplots\n",
    "    '''\n",
    "\n",
    "    i = 0\n",
    "\n",
    "    # Visualisation en 2D des différents résultats selon la perplexité\n",
    "    plt.subplots(6, 2, figsize=[12, 28])\n",
    "\n",
    "    for resultat_tsne in results_list:\n",
    "        plt.subplot(6, 2, i + 1)\n",
    "        tsne_results_i = results_list[i]\n",
    "        sns.scatterplot(x=tsne_results_i[:, 0], y=tsne_results_i[:, 1],\n",
    "                        alpha=alpha)\n",
    "        plt.title('t-SNE avec perplexité=' + str(liste_param[i]))\n",
    "        plt.grid(False)\n",
    "        plt.plot()\n",
    "\n",
    "        i += 1\n",
    "\n",
    "    plt.show()"
   ]
  },
  {
   "cell_type": "code",
   "execution_count": 187,
   "id": "0f84ea85-9c5e-4e8a-b5a0-03ba48d543ae",
   "metadata": {
    "executionInfo": {
     "elapsed": 7,
     "status": "ok",
     "timestamp": 1684518529274,
     "user": {
      "displayName": "raquel sanchez-pellicer",
      "userId": "01837362977323571967"
     },
     "user_tz": -120
    },
    "id": "0f84ea85-9c5e-4e8a-b5a0-03ba48d543ae"
   },
   "outputs": [],
   "source": [
    "# Détermination clusters après PCA et calcul ARI entre\n",
    "# vrai catégorie et n° de clusters\n",
    "\n",
    "def ARI_fct(X_proj, init_method, Ninit, m_iter, df_donnees, df_analyse) :\n",
    "\n",
    "    \"\"\"\n",
    "    ----------\n",
    "    @Paramètres:\n",
    "    * X_proj : datamatrix\n",
    "    * df_donnees : df avec l'information des catégories reelles\n",
    "    * df_analyse: nom du df pour enregistrer les résultats\n",
    "    \"\"\"\n",
    "\n",
    "    # Dataframe pour clustering\n",
    "    df_analyse = pd.DataFrame({\"VAR1\" : X_proj[:, 0],\n",
    "                               \"VAR2\": X_proj[:, 1],\n",
    "                               \"CATEGORIE\" : df_donnees.Categ_N0})\n",
    "\n",
    "    num_labels=len(l_cat)\n",
    "    # Instantiation du modèle k-means\n",
    "    cls = KMeans(n_clusters=num_labels, init=init_method, n_init=Ninit,\n",
    "                 random_state=seed, max_iter=m_iter)\n",
    "    cls.fit(df_analyse[cols])\n",
    "    # Ajout de l'assignation du cluster au dataframe\n",
    "    df_analyse[\"Clusters\"] = cls.labels_\n",
    "    kmeans_labels = cls.labels_\n",
    "    ARI = np.round(metrics.adjusted_rand_score(y_cat_num, cls.labels_),4)\n",
    "\n",
    "    return ARI, kmeans_labels, df_analyse"
   ]
  },
  {
   "cell_type": "code",
   "execution_count": 188,
   "id": "e6b57224-f84a-4ab8-9423-e94dfc67ba76",
   "metadata": {
    "executionInfo": {
     "elapsed": 7,
     "status": "ok",
     "timestamp": 1684518529274,
     "user": {
      "displayName": "raquel sanchez-pellicer",
      "userId": "01837362977323571967"
     },
     "user_tz": -120
    },
    "id": "e6b57224-f84a-4ab8-9423-e94dfc67ba76",
    "tags": []
   },
   "outputs": [],
   "source": [
    "# ------------------------------------------------------------\n",
    "# Scatterplot ACP selon les vraies catégories et les clusters\n",
    "# ------------------------------------------------------------\n",
    "def dimReduc_visu_fct(X_projected, y_cat_num, labels, ARI, methode):\n",
    "    '''\n",
    "    Affiche la projection scatterplot par catégories et clusters.\n",
    "    -----------\n",
    "    @Parameters\n",
    "    * X_projected : Datamatrix après projection, obligatoire.\n",
    "    * labels : la variable représentant les clusters.\n",
    "    * methode : str, nom de la methode de reduction de dimensions\n",
    "    --------\n",
    "    @Returns\n",
    "    Scatterplots\n",
    "    '''\n",
    "    fig = plt.figure(figsize=(15, 6))\n",
    "\n",
    "    # Scatterplot des catégories\n",
    "    ax = fig.add_subplot(121)\n",
    "    scatter = ax.scatter(x=X_projected[:, 0], y=X_projected[:, 1],\n",
    "                         c=y_cat_num, cmap='Set1')\n",
    "    ax.legend(handles=scatter.legend_elements()[0],\n",
    "              labels=l_cat, loc=\"best\", title=\"Categorie\")\n",
    "    plt.title(methode + 'Représentation par catégories réelles')\n",
    "\n",
    "    # Scatterplot des clusters\n",
    "    ax = fig.add_subplot(122)\n",
    "    scatter = ax.scatter(x=X_projected[:, 0], y=X_projected[:, 1],\n",
    "                         c=labels, cmap='Set1')\n",
    "    ax.legend(handles=scatter.legend_elements()[0], labels=set(labels),\n",
    "              loc=\"best\", title=\"Clusters\")\n",
    "    plt.title(methode + 'Représentation par clusters')\n",
    "\n",
    "    plt.show()\n",
    "    print(\"ARI : \", ARI)"
   ]
  },
  {
   "cell_type": "code",
   "execution_count": 339,
   "id": "c585a363-110d-4826-b288-bc5c13839258",
   "metadata": {},
   "outputs": [],
   "source": [
    "def evaluate_model_generator(model, test_generator):\n",
    "    # Obtenir les prédictions pour l'ensemble de test\n",
    "    y_pred = model.predict(test_generator)\n",
    "    y_pred_classes = tf.argmax(y_pred, axis=1)\n",
    "\n",
    "    # Convertir les étiquettes en vecteurs de classe\n",
    "    y_true = test_generator.classes\n",
    "\n",
    "\n",
    "    # Obtenir les noms de classe pour les étiquettes réelles\n",
    "    class_names = list(test_generator.class_indices.keys())\n",
    "\n",
    "    \n",
    "    # Calculer la matrice de confusion\n",
    "    confusion_mtx = confusion_matrix(y_true, y_pred_classes)\n",
    "\n",
    "    # Afficher la matrice de confusion sous forme graphique\n",
    "    sns.heatmap(confusion_mtx, xticklabels=class_names, yticklabels=class_names, cmap='Blues', annot=True, fmt='d')\n",
    "    plt.title('Matrice de confusion')\n",
    "    plt.xlabel('Prédictions')\n",
    "    plt.ylabel('Valeurs réelles')\n",
    "    plt.show()\n",
    "\n",
    "    # Afficher le rapport de classification\n",
    "    print(classification_report(y_true, y_pred_classes, target_names=class_names))\n",
    "    \n",
    "    return(precision_recall_fscore_support(y_true, y_pred_classes, average='weighted'))"
   ]
  },
  {
   "cell_type": "code",
   "execution_count": 347,
   "id": "6ddeec46-2e86-49b4-a097-5cc4af28ebdf",
   "metadata": {},
   "outputs": [
    {
     "name": "stdout",
     "output_type": "stream",
     "text": [
      "157/157 [==============================] - 16s 104ms/step\n"
     ]
    },
    {
     "data": {
      "text/plain": [
       "array([4, 3, 3, 3, 1, 6, 0, 4, 1, 5, 4, 4, 3, 3, 5, 6, 5, 3, 2, 3, 0, 3,\n",
       "       6, 4, 1, 6, 3, 5, 2, 3, 0, 2, 2, 3, 1, 2, 4, 2, 1, 5, 4, 5, 2, 3,\n",
       "       1, 6, 6, 5, 3, 5, 2, 1, 6, 3, 0, 2, 4, 5, 0, 5, 5, 3, 0, 4, 1, 4,\n",
       "       4, 0, 6, 6, 3, 1, 5, 5, 0, 6, 5, 0, 4, 1, 1, 5, 0, 3, 2, 3, 6, 2,\n",
       "       6, 0, 1, 6, 1, 0, 4, 4, 0, 0, 0, 1, 5, 0, 2, 5, 0, 6, 2, 6, 6, 4,\n",
       "       1, 4, 6, 5, 3, 6, 5, 2, 1, 4, 2, 4, 2, 1, 5, 6, 6, 6, 3, 5, 4, 2,\n",
       "       6, 2, 2, 0, 2, 5, 5, 3, 4, 5, 4, 3, 2, 5, 4, 1, 3, 1, 2, 1, 4, 4,\n",
       "       5, 0, 6], dtype=int64)"
      ]
     },
     "execution_count": 347,
     "metadata": {},
     "output_type": "execute_result"
    }
   ],
   "source": [
    "y_pred = model2.predict(test_flow)\n",
    "y_pred_classes = np.argmax(y_pred, axis=1)\n",
    "y_pred_classes"
   ]
  },
  {
   "cell_type": "code",
   "execution_count": 357,
   "id": "560efd66-34c0-42c8-bb25-55ade9fe5859",
   "metadata": {},
   "outputs": [],
   "source": [
    "y_pred_classes_list = y_pred_classes.tolist()"
   ]
  },
  {
   "cell_type": "code",
   "execution_count": 354,
   "id": "1ff69e14-ebe6-496b-a6e8-38a86a3e5127",
   "metadata": {},
   "outputs": [
    {
     "data": {
      "text/plain": [
       "list"
      ]
     },
     "execution_count": 354,
     "metadata": {},
     "output_type": "execute_result"
    }
   ],
   "source": [
    "y_true = test_flow.classes\n",
    "type(y_true)\n"
   ]
  },
  {
   "cell_type": "code",
   "execution_count": 359,
   "id": "d319d08b-93a7-4e62-9fad-5c1d76ff71a5",
   "metadata": {},
   "outputs": [
    {
     "data": {
      "image/png": "[encoded data removed]",
      "text/plain": [
       "<Figure size 640x480 with 2 Axes>"
      ]
     },
     "metadata": {},
     "output_type": "display_data"
    }
   ],
   "source": [
    "confusion_mtx = confusion_matrix(y_true, y_pred_classes_list)\n",
    "sns.heatmap(confusion_mtx, cmap='Blues', annot=True, fmt='d')\n",
    "plt.title('Matrice de confusion')\n",
    "plt.xlabel('Prédictions')\n",
    "plt.ylabel('Valeurs réelles')\n",
    "plt.show()"
   ]
  },
  {
   "cell_type": "code",
   "execution_count": 333,
   "id": "412fa852-141c-4f4d-bf28-4430e5be197c",
   "metadata": {},
   "outputs": [],
   "source": [
    "def evaluate_model_dataset(model, dataset, name=None):\n",
    "    y_true = []\n",
    "    y_pred = []\n",
    "    for x,y in dataset:\n",
    "      y= tf.argmax(y,axis=1)\n",
    "      y_true.append(y)\n",
    "      y_pred.append(tf.argmax(model.predict(x, verbose=0),axis = 1))\n",
    "      \n",
    "    y_pred = tf.concat(y_pred, axis=0)\n",
    "    y_true = tf.concat(y_true, axis=0)\n",
    "    conf_mat=confusion_matrix(y_true, y_pred)\n",
    "    df_cm = pd.DataFrame(conf_mat, index=[categ for categ in categories_liste],\n",
    "                         columns=[i for i in \"0123456\"])\n",
    "    plt.figure(figsize=(6, 4))\n",
    "    \n",
    "    # Afficher la matrice de confusion sous forme graphique\n",
    "    sns.heatmap(df_cm, annot=True, cmap=\"Blues\")\n",
    "    plt.title('Matrice de confusion')\n",
    "    plt.xlabel('Prédictions')\n",
    "    plt.ylabel('Valeurs réelles')\n",
    "    plt.savefig(\"images/graph/conf_mat_\" + name +\".png\")\n",
    "    plt.show()\n",
    "    # Afficher le rapport de classification\n",
    "    print(classification_report(y_true, y_pred))\n",
    "    return(precision_recall_fscore_support(y_true, y_pred_classes, average='weighted'))"
   ]
  },
  {
   "cell_type": "markdown",
   "id": "81cc0d5e-3180-4daf-a0d4-6ca47e93539c",
   "metadata": {
    "id": "81cc0d5e-3180-4daf-a0d4-6ca47e93539c"
   },
   "source": [
    "<div style=\"background-color: #52be80;\" >\n",
    "    <h3 style=\"margin: auto; padding: 20px; color:#fff; \">1.2. Parametrisation</h3>\n",
    "</div>"
   ]
  },
  {
   "cell_type": "code",
   "execution_count": 190,
   "id": "4fea8af9-d18a-49bf-a3d2-532820a42ca1",
   "metadata": {
    "executionInfo": {
     "elapsed": 8,
     "status": "ok",
     "timestamp": 1684518529275,
     "user": {
      "displayName": "raquel sanchez-pellicer",
      "userId": "01837362977323571967"
     },
     "user_tz": -120
    },
    "id": "4fea8af9-d18a-49bf-a3d2-532820a42ca1"
   },
   "outputs": [],
   "source": [
    "# Parameters used in this notebook\n",
    "seed = 84"
   ]
  },
  {
   "cell_type": "markdown",
   "id": "be338989-2b16-4998-92cf-7dbe4713769b",
   "metadata": {
    "id": "be338989-2b16-4998-92cf-7dbe4713769b"
   },
   "source": [
    "%pycodestyle_off"
   ]
  },
  {
   "cell_type": "markdown",
   "id": "4597b3c3-0941-4bb3-9380-f9249e4612a2",
   "metadata": {
    "id": "4597b3c3-0941-4bb3-9380-f9249e4612a2",
    "tags": []
   },
   "source": [
    "<div style=\"background-color: #229954;\" >\n",
    "    <h2 style=\"margin: auto; padding: 20px; color:#fff; \">2. Database</h2>\n",
    "</div>"
   ]
  },
  {
   "cell_type": "code",
   "execution_count": 191,
   "id": "bbD-8EYka7OJ",
   "metadata": {
    "executionInfo": {
     "elapsed": 1457,
     "status": "ok",
     "timestamp": 1684518530725,
     "user": {
      "displayName": "raquel sanchez-pellicer",
      "userId": "01837362977323571967"
     },
     "user_tz": -120
    },
    "id": "bbD-8EYka7OJ"
   },
   "outputs": [],
   "source": [
    "data_image = pd.read_csv('data_image.csv')"
   ]
  },
  {
   "cell_type": "code",
   "execution_count": 192,
   "id": "6f141ced-b79d-4724-a893-51ea84573e56",
   "metadata": {},
   "outputs": [
    {
     "data": {
      "text/html": [
       "<div>\n",
       "<style scoped>\n",
       "    .dataframe tbody tr th:only-of-type {\n",
       "        vertical-align: middle;\n",
       "    }\n",
       "\n",
       "    .dataframe tbody tr th {\n",
       "        vertical-align: top;\n",
       "    }\n",
       "\n",
       "    .dataframe thead th {\n",
       "        text-align: right;\n",
       "    }\n",
       "</style>\n",
       "<table border=\"1\" class=\"dataframe\">\n",
       "  <thead>\n",
       "    <tr style=\"text-align: right;\">\n",
       "      <th></th>\n",
       "      <th>image</th>\n",
       "      <th>Categ_N0</th>\n",
       "      <th>description</th>\n",
       "      <th>cat_label</th>\n",
       "    </tr>\n",
       "  </thead>\n",
       "  <tbody>\n",
       "    <tr>\n",
       "      <th>0</th>\n",
       "      <td>55b85ea15a1536d46b7190ad6fff8ce7.jpg</td>\n",
       "      <td>Home Furnishing</td>\n",
       "      <td>Key Features of Elegance Polyester Multicolor ...</td>\n",
       "      <td>4</td>\n",
       "    </tr>\n",
       "    <tr>\n",
       "      <th>1</th>\n",
       "      <td>7b72c92c2f6c40268628ec5f14c6d590.jpg</td>\n",
       "      <td>Baby Care</td>\n",
       "      <td>Specifications of Sathiyas Cotton Bath Towel (...</td>\n",
       "      <td>0</td>\n",
       "    </tr>\n",
       "    <tr>\n",
       "      <th>2</th>\n",
       "      <td>64d5d4a258243731dc7bbb1eef49ad74.jpg</td>\n",
       "      <td>Baby Care</td>\n",
       "      <td>Key Features of Eurospa Cotton Terry Face Towe...</td>\n",
       "      <td>0</td>\n",
       "    </tr>\n",
       "    <tr>\n",
       "      <th>3</th>\n",
       "      <td>d4684dcdc759dd9cdf41504698d737d8.jpg</td>\n",
       "      <td>Home Furnishing</td>\n",
       "      <td>Key Features of SANTOSH ROYAL FASHION Cotton P...</td>\n",
       "      <td>4</td>\n",
       "    </tr>\n",
       "    <tr>\n",
       "      <th>4</th>\n",
       "      <td>6325b6870c54cd47be6ebfbffa620ec7.jpg</td>\n",
       "      <td>Home Furnishing</td>\n",
       "      <td>Key Features of Jaipur Print Cotton Floral Kin...</td>\n",
       "      <td>4</td>\n",
       "    </tr>\n",
       "  </tbody>\n",
       "</table>\n",
       "</div>"
      ],
      "text/plain": [
       "                                  image         Categ_N0  \\\n",
       "0  55b85ea15a1536d46b7190ad6fff8ce7.jpg  Home Furnishing   \n",
       "1  7b72c92c2f6c40268628ec5f14c6d590.jpg        Baby Care   \n",
       "2  64d5d4a258243731dc7bbb1eef49ad74.jpg        Baby Care   \n",
       "3  d4684dcdc759dd9cdf41504698d737d8.jpg  Home Furnishing   \n",
       "4  6325b6870c54cd47be6ebfbffa620ec7.jpg  Home Furnishing   \n",
       "\n",
       "                                         description  cat_label  \n",
       "0  Key Features of Elegance Polyester Multicolor ...          4  \n",
       "1  Specifications of Sathiyas Cotton Bath Towel (...          0  \n",
       "2  Key Features of Eurospa Cotton Terry Face Towe...          0  \n",
       "3  Key Features of SANTOSH ROYAL FASHION Cotton P...          4  \n",
       "4  Key Features of Jaipur Print Cotton Floral Kin...          4  "
      ]
     },
     "execution_count": 192,
     "metadata": {},
     "output_type": "execute_result"
    }
   ],
   "source": [
    "data_image.head()"
   ]
  },
  {
   "cell_type": "code",
   "execution_count": 193,
   "id": "SnFIKlntVMCr",
   "metadata": {
    "executionInfo": {
     "elapsed": 33,
     "status": "ok",
     "timestamp": 1684518530725,
     "user": {
      "displayName": "raquel sanchez-pellicer",
      "userId": "01837362977323571967"
     },
     "user_tz": -120
    },
    "id": "SnFIKlntVMCr"
   },
   "outputs": [],
   "source": [
    "# Dossier contenant les images disponibles\n",
    "path_images = \"images/Images/\"\n",
    "\n",
    "# Taille redimensionement\n",
    "dim = (224, 224)"
   ]
  },
  {
   "cell_type": "code",
   "execution_count": 194,
   "id": "bmSxMGCAPIjR",
   "metadata": {
    "executionInfo": {
     "elapsed": 29,
     "status": "ok",
     "timestamp": 1684518530727,
     "user": {
      "displayName": "raquel sanchez-pellicer",
      "userId": "01837362977323571967"
     },
     "user_tz": -120
    },
    "id": "bmSxMGCAPIjR"
   },
   "outputs": [],
   "source": [
    "# Liste des vraies catégories\n",
    "categories_liste = list(set(data_image[\"Categ_N0\"]))\n",
    "df_classif_superv = data_image[[\"image\", \"Categ_N0\", \"cat_label\"]].copy()"
   ]
  },
  {
   "cell_type": "code",
   "execution_count": 195,
   "id": "ef8f2dc8-eda0-462e-98d6-be15528c9c46",
   "metadata": {},
   "outputs": [
    {
     "data": {
      "text/plain": [
       "['Computers',\n",
       " 'Baby Care',\n",
       " 'Watches',\n",
       " 'Beauty and Personal Care',\n",
       " 'Kitchen & Dining',\n",
       " 'Home Furnishing',\n",
       " 'Home Decor & Festive Needs']"
      ]
     },
     "execution_count": 195,
     "metadata": {},
     "output_type": "execute_result"
    }
   ],
   "source": [
    "categories_liste"
   ]
  },
  {
   "cell_type": "code",
   "execution_count": 196,
   "id": "fd9rhU5bQl-m",
   "metadata": {
    "executionInfo": {
     "elapsed": 16,
     "status": "ok",
     "timestamp": 1684518530728,
     "user": {
      "displayName": "raquel sanchez-pellicer",
      "userId": "01837362977323571967"
     },
     "user_tz": -120
    },
    "id": "fd9rhU5bQl-m"
   },
   "outputs": [],
   "source": [
    "# Création d'un set d'entraînement et un set de test\n",
    "\n",
    "X = df_classif_superv[[\"image\"]]\n",
    "y = df_classif_superv[\"cat_label\"]\n",
    "\n",
    "images, img_tv, categories, categ_tv = train_test_split(X, y,\n",
    "                                                            stratify=y,\n",
    "                                                            test_size=0.20,\n",
    "                                                            random_state=seed)"
   ]
  },
  {
   "cell_type": "code",
   "execution_count": 197,
   "id": "FsdgmilSqWIL",
   "metadata": {
    "colab": {
     "base_uri": "https://localhost:8080/"
    },
    "executionInfo": {
     "elapsed": 16,
     "status": "ok",
     "timestamp": 1684518530729,
     "user": {
      "displayName": "raquel sanchez-pellicer",
      "userId": "01837362977323571967"
     },
     "user_tz": -120
    },
    "id": "FsdgmilSqWIL",
    "outputId": "01776da3-0c27-4ae3-deae-6f80565449b5"
   },
   "outputs": [
    {
     "name": "stdout",
     "output_type": "stream",
     "text": [
      "images train (840, 2)\n",
      "images test (210, 2)\n"
     ]
    }
   ],
   "source": [
    "# Recalculer les index pour avoir des listes de valeurs continus\n",
    "images = images.reset_index()\n",
    "print(\"images train\", images.shape)\n",
    "\n",
    "img_tv = img_tv.reset_index()\n",
    "print(\"images test\", img_tv.shape)"
   ]
  },
  {
   "cell_type": "code",
   "execution_count": 198,
   "id": "NM1Lf1NAX1Df",
   "metadata": {
    "colab": {
     "base_uri": "https://localhost:8080/",
     "height": 442
    },
    "executionInfo": {
     "elapsed": 510,
     "status": "ok",
     "timestamp": 1684518531226,
     "user": {
      "displayName": "raquel sanchez-pellicer",
      "userId": "01837362977323571967"
     },
     "user_tz": -120
    },
    "id": "NM1Lf1NAX1Df",
    "outputId": "ca557268-eb9e-435a-b98c-2cbcb4a8b4ca"
   },
   "outputs": [
    {
     "data": {
      "text/plain": [
       "<Axes: xlabel='cat_label'>"
      ]
     },
     "execution_count": 198,
     "metadata": {},
     "output_type": "execute_result"
    },
    {
     "data": {
      "image/png": "[encoded data removed]",
      "text/plain": [
       "<Figure size 640x480 with 1 Axes>"
      ]
     },
     "metadata": {},
     "output_type": "display_data"
    }
   ],
   "source": [
    "# Visualisation de la representation des catégories dans le set qui servira\n",
    "# à l'entraînement et validation\n",
    "categories.value_counts().plot(kind=\"bar\")\n",
    "plt.savefig(\"images/graph/categories_set_train.png\")"
   ]
  },
  {
   "cell_type": "code",
   "execution_count": 199,
   "id": "RLRfE0jgYCn-",
   "metadata": {
    "colab": {
     "base_uri": "https://localhost:8080/",
     "height": 442
    },
    "executionInfo": {
     "elapsed": 556,
     "status": "ok",
     "timestamp": 1684518531774,
     "user": {
      "displayName": "raquel sanchez-pellicer",
      "userId": "01837362977323571967"
     },
     "user_tz": -120
    },
    "id": "RLRfE0jgYCn-",
    "outputId": "e1f487f4-c9c5-42e8-b816-e464a55a5a80"
   },
   "outputs": [
    {
     "data": {
      "text/plain": [
       "<Axes: xlabel='cat_label'>"
      ]
     },
     "execution_count": 199,
     "metadata": {},
     "output_type": "execute_result"
    },
    {
     "data": {
      "image/png": "[encoded data removed]",
      "text/plain": [
       "<Figure size 640x480 with 1 Axes>"
      ]
     },
     "metadata": {},
     "output_type": "display_data"
    }
   ],
   "source": [
    "# Visualisation de la representation des catégories dans le set qui servira\n",
    "# au test\n",
    "categ_tv.value_counts().plot(kind=\"bar\")\n",
    "plt.savefig(\"images/graph/categories_set_test.png\")"
   ]
  },
  {
   "cell_type": "markdown",
   "id": "j0qYiY9gZ7BB",
   "metadata": {
    "id": "j0qYiY9gZ7BB"
   },
   "source": [
    "<div style=\"background-color: #229954;\" >\n",
    "    <h2 style=\"margin: auto; padding: 20px; color:#fff; \">3. Classification supervisée</h2>\n",
    "</div>"
   ]
  },
  {
   "cell_type": "markdown",
   "id": "4f91c2c3-e662-41e7-9f92-75efdef3824d",
   "metadata": {},
   "source": [
    "3 approches sont présentées :\n",
    "* Une approche simple par préparation initiale de l'ensemble des images avant classification supervisée\n",
    "* Une approche par data generator, permettant facilement la data augmentation. Les images sont directement récupérées à la volée dans le repertoire des images\n",
    "* Une approche récente proposée par Tensorflow.org par DataSet, sans data augmentation\n",
    "* Une approche par DataSet, avec data augmentation intégrée au modèle : layer en début de modèle"
   ]
  },
  {
   "cell_type": "code",
   "execution_count": 200,
   "id": "eoo3-JHO22XC",
   "metadata": {
    "executionInfo": {
     "elapsed": 15,
     "status": "ok",
     "timestamp": 1684518531775,
     "user": {
      "displayName": "raquel sanchez-pellicer",
      "userId": "01837362977323571967"
     },
     "user_tz": -120
    },
    "id": "eoo3-JHO22XC"
   },
   "outputs": [],
   "source": [
    "# Liste pour enregistrer les informations nécessaires\n",
    "#  à la comparaison des performances\n",
    "approach = []\n",
    "loss_vali_opt = []\n",
    "accuracy_vali_opt = []\n",
    "loss_test_opt = []\n",
    "accuracy_test_opt = []\n",
    "time_fit = []"
   ]
  },
  {
   "cell_type": "markdown",
   "id": "n4AvjiNFTdZF",
   "metadata": {
    "id": "n4AvjiNFTdZF"
   },
   "source": [
    "<div style=\"background-color: #52be80;\" >\n",
    "    <h3 style=\"margin: auto; padding: 20px; color:#fff; \">3.1. Création du modèle de classification</h3>\n",
    "</div>"
   ]
  },
  {
   "cell_type": "code",
   "execution_count": 201,
   "id": "Ot0JOce8Tge2",
   "metadata": {
    "executionInfo": {
     "elapsed": 14,
     "status": "ok",
     "timestamp": 1684518531776,
     "user": {
      "displayName": "raquel sanchez-pellicer",
      "userId": "01837362977323571967"
     },
     "user_tz": -120
    },
    "id": "Ot0JOce8Tge2"
   },
   "outputs": [],
   "source": [
    "def create_model_VGG16_fct() :\n",
    "    # Récupération modèle pré-entraîné\n",
    "    model0 = VGG16(include_top=False, weights=\"imagenet\",\n",
    "                   input_shape=(224, 224, 3))\n",
    "\n",
    "    # Layer non entraînables = on garde les poids du modèle pré-entraîné\n",
    "    for layer in model0.layers:\n",
    "        layer.trainable = False\n",
    "\n",
    "    # Récupérer la sortie de ce réseau\n",
    "    x = model0.output\n",
    "    # Compléter le modèle\n",
    "    x = GlobalAveragePooling2D()(x)\n",
    "    x = Dense(256, activation='relu')(x)\n",
    "    x = Dropout(0.5)(x)\n",
    "    predictions = Dense(7, activation='softmax')(x)\n",
    "\n",
    "    # Définir le nouveau modèle\n",
    "    model = Model(inputs=model0.input, outputs=predictions)\n",
    "    # compilation du modèle \n",
    "    model.compile(loss=\"categorical_crossentropy\", optimizer='rmsprop',\n",
    "                  metrics=[\"accuracy\"])\n",
    "\n",
    "    print(model.summary())\n",
    "    \n",
    "    return model"
   ]
  },
  {
   "cell_type": "markdown",
   "id": "hYntupbFTwB8",
   "metadata": {
    "id": "hYntupbFTwB8"
   },
   "source": [
    "<div style=\"background-color: #52be80;\" >\n",
    "    <h3 style=\"margin: auto; padding: 20px; color:#fff; \">3.2. Approche préparation initiale des images</h3>\n",
    "</div>"
   ]
  },
  {
   "cell_type": "code",
   "execution_count": 202,
   "id": "cqJGRnOgTusi",
   "metadata": {
    "colab": {
     "base_uri": "https://localhost:8080/"
    },
    "executionInfo": {
     "elapsed": 582116,
     "status": "ok",
     "timestamp": 1684519113879,
     "user": {
      "displayName": "raquel sanchez-pellicer",
      "userId": "01837362977323571967"
     },
     "user_tz": -120
    },
    "id": "cqJGRnOgTusi",
    "outputId": "5e86c247-0dd7-405e-8acf-69fb6717adc2"
   },
   "outputs": [
    {
     "name": "stderr",
     "output_type": "stream",
     "text": [
      "C:\\Python\\Python311\\Lib\\site-packages\\PIL\\Image.py:3157: DecompressionBombWarning: Image size (93680328 pixels) exceeds limit of 89478485 pixels, could be decompression bomb DOS attack.\n",
      "  warnings.warn(\n"
     ]
    },
    {
     "name": "stdout",
     "output_type": "stream",
     "text": [
      "(840, 224, 224, 3)\n",
      "(210, 224, 224, 3)\n"
     ]
    }
   ],
   "source": [
    "def image_prep_fct(data) :\n",
    "    prepared_images = []\n",
    "    for image_num in range(len(data['image'])) :\n",
    "        img = (load_img(path_images+\n",
    "            data['image'][image_num],\n",
    "            target_size=dim))\n",
    "        img = img_to_array(img)\n",
    "        img = img.reshape((img.shape[0], img.shape[1], img.shape[2]))\n",
    "        img = preprocess_input(img)\n",
    "        prepared_images.append(img)\n",
    "        prepared_images_np = np.array(prepared_images)\n",
    "    return prepared_images_np\n",
    "\n",
    "images_np = image_prep_fct(images)\n",
    "print(images_np.shape)\n",
    "images_np_tv = image_prep_fct(img_tv)\n",
    "print(images_np_tv.shape)"
   ]
  },
  {
   "cell_type": "code",
   "execution_count": 203,
   "id": "4O22GsInV--Q",
   "metadata": {
    "colab": {
     "base_uri": "https://localhost:8080/"
    },
    "executionInfo": {
     "elapsed": 19,
     "status": "ok",
     "timestamp": 1684519113880,
     "user": {
      "displayName": "raquel sanchez-pellicer",
      "userId": "01837362977323571967"
     },
     "user_tz": -120
    },
    "id": "4O22GsInV--Q",
    "outputId": "5f51353b-b208-492e-86da-6db588de290f"
   },
   "outputs": [],
   "source": [
    "X_model_np = images_np\n",
    "y_model_np = to_categorical(categories)\n",
    "\n",
    "img_tv_np = images_np_tv\n",
    "categ_tv_np = to_categorical(categ_tv)"
   ]
  },
  {
   "cell_type": "code",
   "execution_count": 204,
   "id": "48yOk814aHtX",
   "metadata": {
    "colab": {
     "base_uri": "https://localhost:8080/"
    },
    "executionInfo": {
     "elapsed": 14,
     "status": "ok",
     "timestamp": 1684519113880,
     "user": {
      "displayName": "raquel sanchez-pellicer",
      "userId": "01837362977323571967"
     },
     "user_tz": -120
    },
    "id": "48yOk814aHtX",
    "outputId": "dfdca410-0b96-43ed-d8d6-28af74c4391f"
   },
   "outputs": [],
   "source": [
    "# Creation des jeux de donnéées, en batch pour traitement. Tv pour Test ET Validation.\n",
    "# les deux jeux seront separ2s dans un deuxième temps\n",
    "\n",
    "img_test_np, img_val_np, categ_test_np, categ_val_np = train_test_split(img_tv_np, categ_tv_np,\n",
    "                                                              stratify=categ_tv_np,\n",
    "                                                              test_size=0.25,\n",
    "                                                              random_state=seed)"
   ]
  },
  {
   "cell_type": "code",
   "execution_count": 205,
   "id": "yP2m7kGnaTdA",
   "metadata": {
    "colab": {
     "base_uri": "https://localhost:8080/"
    },
    "executionInfo": {
     "elapsed": 3537,
     "status": "ok",
     "timestamp": 1684519120249,
     "user": {
      "displayName": "raquel sanchez-pellicer",
      "userId": "01837362977323571967"
     },
     "user_tz": -120
    },
    "id": "yP2m7kGnaTdA",
    "outputId": "5c2a9ead-2e5d-44ad-f2df-6bf567ef3187"
   },
   "outputs": [
    {
     "name": "stdout",
     "output_type": "stream",
     "text": [
      "Model: \"model_3\"\n",
      "_________________________________________________________________\n",
      " Layer (type)                Output Shape              Param #   \n",
      "=================================================================\n",
      " input_5 (InputLayer)        [(None, 224, 224, 3)]     0         \n",
      "                                                                 \n",
      " block1_conv1 (Conv2D)       (None, 224, 224, 64)      1792      \n",
      "                                                                 \n",
      " block1_conv2 (Conv2D)       (None, 224, 224, 64)      36928     \n",
      "                                                                 \n",
      " block1_pool (MaxPooling2D)  (None, 112, 112, 64)      0         \n",
      "                                                                 \n",
      " block2_conv1 (Conv2D)       (None, 112, 112, 128)     73856     \n",
      "                                                                 \n",
      " block2_conv2 (Conv2D)       (None, 112, 112, 128)     147584    \n",
      "                                                                 \n",
      " block2_pool (MaxPooling2D)  (None, 56, 56, 128)       0         \n",
      "                                                                 \n",
      " block3_conv1 (Conv2D)       (None, 56, 56, 256)       295168    \n",
      "                                                                 \n",
      " block3_conv2 (Conv2D)       (None, 56, 56, 256)       590080    \n",
      "                                                                 \n",
      " block3_conv3 (Conv2D)       (None, 56, 56, 256)       590080    \n",
      "                                                                 \n",
      " block3_pool (MaxPooling2D)  (None, 28, 28, 256)       0         \n",
      "                                                                 \n",
      " block4_conv1 (Conv2D)       (None, 28, 28, 512)       1180160   \n",
      "                                                                 \n",
      " block4_conv2 (Conv2D)       (None, 28, 28, 512)       2359808   \n",
      "                                                                 \n",
      " block4_conv3 (Conv2D)       (None, 28, 28, 512)       2359808   \n",
      "                                                                 \n",
      " block4_pool (MaxPooling2D)  (None, 14, 14, 512)       0         \n",
      "                                                                 \n",
      " block5_conv1 (Conv2D)       (None, 14, 14, 512)       2359808   \n",
      "                                                                 \n",
      " block5_conv2 (Conv2D)       (None, 14, 14, 512)       2359808   \n",
      "                                                                 \n",
      " block5_conv3 (Conv2D)       (None, 14, 14, 512)       2359808   \n",
      "                                                                 \n",
      " block5_pool (MaxPooling2D)  (None, 7, 7, 512)         0         \n",
      "                                                                 \n",
      " global_average_pooling2d_4  (None, 512)               0         \n",
      "  (GlobalAveragePooling2D)                                       \n",
      "                                                                 \n",
      " dense_8 (Dense)             (None, 256)               131328    \n",
      "                                                                 \n",
      " dropout_4 (Dropout)         (None, 256)               0         \n",
      "                                                                 \n",
      " dense_9 (Dense)             (None, 7)                 1799      \n",
      "                                                                 \n",
      "=================================================================\n",
      "Total params: 14847815 (56.64 MB)\n",
      "Trainable params: 133127 (520.03 KB)\n",
      "Non-trainable params: 14714688 (56.13 MB)\n",
      "_________________________________________________________________\n",
      "None\n"
     ]
    }
   ],
   "source": [
    "# Création du modèle\n",
    "model1 = create_model_VGG16_fct()\n",
    "\n",
    "# Création du callback\n",
    "model1_save_path1 = \"./model1_best_weights.h5\"\n",
    "checkpoint = ModelCheckpoint(model1_save_path1, monitor='val_loss',\n",
    "                             verbose=1, save_best_only=True, mode='min')\n",
    "es = EarlyStopping(monitor='val_loss', mode='min', verbose=1, patience=5)\n",
    "callbacks_list = [checkpoint, es]"
   ]
  },
  {
   "cell_type": "code",
   "execution_count": 206,
   "id": "ynm3gFpYaltm",
   "metadata": {
    "colab": {
     "base_uri": "https://localhost:8080/"
    },
    "executionInfo": {
     "elapsed": 49115,
     "status": "ok",
     "timestamp": 1684519169362,
     "user": {
      "displayName": "raquel sanchez-pellicer",
      "userId": "01837362977323571967"
     },
     "user_tz": -120
    },
    "id": "ynm3gFpYaltm",
    "outputId": "458fdfd7-c93b-429b-865d-43588ea481e3"
   },
   "outputs": [
    {
     "name": "stdout",
     "output_type": "stream",
     "text": [
      "Epoch 1/50\n",
      "14/14 [==============================] - ETA: 0s - loss: 4.6286 - accuracy: 0.4833\n",
      "Epoch 1: val_loss improved from inf to 1.32824, saving model to .\\model1_best_weights.h5\n",
      "14/14 [==============================] - 75s 5s/step - loss: 4.6286 - accuracy: 0.4833 - val_loss: 1.3282 - val_accuracy: 0.7358\n",
      "Epoch 2/50\n"
     ]
    },
    {
     "name": "stderr",
     "output_type": "stream",
     "text": [
      "C:\\Python\\Python311\\Lib\\site-packages\\keras\\src\\engine\\training.py:3103: UserWarning: You are saving your model as an HDF5 file via `model.save()`. This file format is considered legacy. We recommend using instead the native Keras format, e.g. `model.save('my_model.keras')`.\n",
      "  saving_api.save_model(\n"
     ]
    },
    {
     "name": "stdout",
     "output_type": "stream",
     "text": [
      "14/14 [==============================] - ETA: 0s - loss: 1.9199 - accuracy: 0.6940\n",
      "Epoch 2: val_loss improved from 1.32824 to 1.01932, saving model to .\\model1_best_weights.h5\n",
      "14/14 [==============================] - 73s 5s/step - loss: 1.9199 - accuracy: 0.6940 - val_loss: 1.0193 - val_accuracy: 0.7736\n",
      "Epoch 3/50\n",
      "14/14 [==============================] - ETA: 0s - loss: 1.1191 - accuracy: 0.7571\n",
      "Epoch 3: val_loss did not improve from 1.01932\n",
      "14/14 [==============================] - 74s 5s/step - loss: 1.1191 - accuracy: 0.7571 - val_loss: 1.0212 - val_accuracy: 0.7925\n",
      "Epoch 4/50\n",
      "14/14 [==============================] - ETA: 0s - loss: 0.8832 - accuracy: 0.7798\n",
      "Epoch 4: val_loss improved from 1.01932 to 1.01553, saving model to .\\model1_best_weights.h5\n",
      "14/14 [==============================] - 75s 5s/step - loss: 0.8832 - accuracy: 0.7798 - val_loss: 1.0155 - val_accuracy: 0.8302\n",
      "Epoch 5/50\n",
      "14/14 [==============================] - ETA: 0s - loss: 0.6131 - accuracy: 0.8226\n",
      "Epoch 5: val_loss improved from 1.01553 to 0.88112, saving model to .\\model1_best_weights.h5\n",
      "14/14 [==============================] - 73s 5s/step - loss: 0.6131 - accuracy: 0.8226 - val_loss: 0.8811 - val_accuracy: 0.8302\n",
      "Epoch 6/50\n",
      "14/14 [==============================] - ETA: 0s - loss: 0.4504 - accuracy: 0.8702\n",
      "Epoch 6: val_loss did not improve from 0.88112\n",
      "14/14 [==============================] - 73s 5s/step - loss: 0.4504 - accuracy: 0.8702 - val_loss: 0.9140 - val_accuracy: 0.8113\n",
      "Epoch 7/50\n",
      "14/14 [==============================] - ETA: 0s - loss: 0.2961 - accuracy: 0.9060\n",
      "Epoch 7: val_loss improved from 0.88112 to 0.78515, saving model to .\\model1_best_weights.h5\n",
      "14/14 [==============================] - 73s 5s/step - loss: 0.2961 - accuracy: 0.9060 - val_loss: 0.7852 - val_accuracy: 0.8302\n",
      "Epoch 8/50\n",
      "14/14 [==============================] - ETA: 0s - loss: 0.3090 - accuracy: 0.8905\n",
      "Epoch 8: val_loss did not improve from 0.78515\n",
      "14/14 [==============================] - 73s 5s/step - loss: 0.3090 - accuracy: 0.8905 - val_loss: 0.8926 - val_accuracy: 0.8302\n",
      "Epoch 9/50\n",
      "14/14 [==============================] - ETA: 0s - loss: 0.2059 - accuracy: 0.9405\n",
      "Epoch 9: val_loss did not improve from 0.78515\n",
      "14/14 [==============================] - 73s 5s/step - loss: 0.2059 - accuracy: 0.9405 - val_loss: 0.8306 - val_accuracy: 0.8679\n",
      "Epoch 10/50\n",
      "14/14 [==============================] - ETA: 0s - loss: 0.2107 - accuracy: 0.9321\n",
      "Epoch 10: val_loss did not improve from 0.78515\n",
      "14/14 [==============================] - 75s 5s/step - loss: 0.2107 - accuracy: 0.9321 - val_loss: 0.9070 - val_accuracy: 0.8302\n",
      "Epoch 11/50\n",
      "14/14 [==============================] - ETA: 0s - loss: 0.1842 - accuracy: 0.9452\n",
      "Epoch 11: val_loss did not improve from 0.78515\n",
      "14/14 [==============================] - 75s 5s/step - loss: 0.1842 - accuracy: 0.9452 - val_loss: 0.8894 - val_accuracy: 0.7925\n",
      "Epoch 12/50\n",
      "14/14 [==============================] - ETA: 0s - loss: 0.1539 - accuracy: 0.9500\n",
      "Epoch 12: val_loss did not improve from 0.78515\n",
      "14/14 [==============================] - 73s 5s/step - loss: 0.1539 - accuracy: 0.9500 - val_loss: 0.9603 - val_accuracy: 0.8491\n",
      "Epoch 12: early stopping\n"
     ]
    }
   ],
   "source": [
    "# Entraîner sur les données d'entraînement (img_train, categ_train)\n",
    "start_time=time.time()\n",
    "history1 = model1.fit(X_model_np, y_model_np, epochs=50, batch_size=64,\n",
    "                      callbacks=callbacks_list, validation_data=(img_val_np,\n",
    "                                                                 categ_val_np),\n",
    "                      verbose=1)\n",
    "tps_exec_model1 = round(time.time() - start_time,3)"
   ]
  },
  {
   "cell_type": "code",
   "execution_count": 207,
   "id": "sMUMdRw1NYJO",
   "metadata": {
    "colab": {
     "base_uri": "https://localhost:8080/"
    },
    "executionInfo": {
     "elapsed": 11276,
     "status": "ok",
     "timestamp": 1684519180628,
     "user": {
      "displayName": "raquel sanchez-pellicer",
      "userId": "01837362977323571967"
     },
     "user_tz": -120
    },
    "id": "sMUMdRw1NYJO",
    "outputId": "3c577548-7087-41a5-edff-807cfb1ac7bd"
   },
   "outputs": [
    {
     "name": "stdout",
     "output_type": "stream",
     "text": [
      "27/27 [==============================] - 71s 3s/step - loss: 0.0131 - accuracy: 0.9976\n",
      "Training Accuracy: 0.9976\n",
      "\n",
      "2/2 [==============================] - 4s 2s/step - loss: 0.9603 - accuracy: 0.8491\n",
      "Validation Accuracy:  0.8491\n"
     ]
    }
   ],
   "source": [
    "# Score du dernier epoch\n",
    "loss, accuracy = model1.evaluate(X_model_np, y_model_np, verbose=True)\n",
    "print(\"Training Accuracy: {:.4f}\".format(accuracy))\n",
    "print()\n",
    "\n",
    "loss, accuracy = model1.evaluate(img_val_np, categ_val_np, verbose=True)\n",
    "print(\"Validation Accuracy:  {:.4f}\".format(accuracy))"
   ]
  },
  {
   "cell_type": "code",
   "execution_count": 208,
   "id": "pXq2tvIANl5n",
   "metadata": {
    "colab": {
     "base_uri": "https://localhost:8080/"
    },
    "executionInfo": {
     "elapsed": 8611,
     "status": "ok",
     "timestamp": 1684519190146,
     "user": {
      "displayName": "raquel sanchez-pellicer",
      "userId": "01837362977323571967"
     },
     "user_tz": -120
    },
    "id": "pXq2tvIANl5n",
    "outputId": "4eef5ecd-83d1-4b79-d2bb-c14ac3c7e7b9"
   },
   "outputs": [
    {
     "name": "stdout",
     "output_type": "stream",
     "text": [
      "Validation Accuracy :  0.8302\n",
      "Test Accuracy       :  0.8089\n"
     ]
    }
   ],
   "source": [
    "# Score de l'epoch optimal\n",
    "model1.load_weights(model1_save_path1)\n",
    "loss_vali_model1, accuracy_vali_model1 = model1.evaluate(img_val_np, categ_val_np,\n",
    "                                                         verbose=False)\n",
    "print(\"Validation Accuracy :  {:.4f}\".format(accuracy_vali_model1))\n",
    "\n",
    "loss_test_model1, accuracy_test_model1 = model1.evaluate(img_test_np, categ_test_np,\n",
    "                                                         verbose=False)\n",
    "print(\"Test Accuracy       :  {:.4f}\".format(accuracy_test_model1))"
   ]
  },
  {
   "cell_type": "code",
   "execution_count": 209,
   "id": "i6vVXdIG2vPh",
   "metadata": {
    "executionInfo": {
     "elapsed": 4,
     "status": "ok",
     "timestamp": 1684519190147,
     "user": {
      "displayName": "raquel sanchez-pellicer",
      "userId": "01837362977323571967"
     },
     "user_tz": -120
    },
    "id": "i6vVXdIG2vPh"
   },
   "outputs": [],
   "source": [
    "# Information à garder pour la comparaison des performances\n",
    "\n",
    "approach.append(\"Prep_Init\")\n",
    "loss_vali_opt.append(loss_vali_model1)\n",
    "accuracy_vali_opt.append(accuracy_vali_model1)\n",
    "loss_test_opt.append(loss_test_model1)\n",
    "accuracy_test_opt.append(accuracy_test_model1)\n",
    "time_fit.append(tps_exec_model1)"
   ]
  },
  {
   "cell_type": "code",
   "execution_count": 210,
   "id": "mY0FGz7zN6C8",
   "metadata": {
    "colab": {
     "base_uri": "https://localhost:8080/",
     "height": 528
    },
    "executionInfo": {
     "elapsed": 2102,
     "status": "ok",
     "timestamp": 1684519192246,
     "user": {
      "displayName": "raquel sanchez-pellicer",
      "userId": "01837362977323571967"
     },
     "user_tz": -120
    },
    "id": "mY0FGz7zN6C8",
    "outputId": "4ae92b94-7407-4287-8160-5c23eb3a4401"
   },
   "outputs": [
    {
     "data": {
      "image/png": "[encoded data removed]",
      "text/plain": [
       "<Figure size 1000x500 with 2 Axes>"
      ]
     },
     "metadata": {},
     "output_type": "display_data"
    }
   ],
   "source": [
    "show_history(history1)\n",
    "plot_history(history1, path=\"standard.png\")\n",
    "plt.savefig(\"images/graph/history_plot_model1.png\")\n",
    "plt.close()"
   ]
  },
  {
   "cell_type": "code",
   "execution_count": 211,
   "id": "mh9WZHYxOGpu",
   "metadata": {
    "colab": {
     "base_uri": "https://localhost:8080/"
    },
    "executionInfo": {
     "elapsed": 1759,
     "status": "ok",
     "timestamp": 1684519194000,
     "user": {
      "displayName": "raquel sanchez-pellicer",
      "userId": "01837362977323571967"
     },
     "user_tz": -120
    },
    "id": "mh9WZHYxOGpu",
    "outputId": "6bf4a220-bf86-4990-caf8-b75af8b0b316"
   },
   "outputs": [
    {
     "name": "stdout",
     "output_type": "stream",
     "text": [
      "2/2 [==============================] - 5s 2s/step\n",
      "[1 3 5 4 4 5 5 4 6 5 2 2 4 4 5 3 3 0 1 5 1 1 0 4 1 6 5 6 1 2 2 5 2 4 0 6 0\n",
      " 3 6 6 3 2 1 0 3 1 2 3 4 6 0 6 0]\n",
      "\n",
      "[1 4 2 4 4 5 5 3 6 5 2 2 4 4 5 3 3 0 1 5 1 1 0 0 1 6 5 6 3 2 3 5 2 4 0 6 4\n",
      " 3 6 6 3 2 1 0 3 1 3 4 4 6 0 6 0]\n"
     ]
    }
   ],
   "source": [
    "categ_val_num = np.argmax(categ_val_np, axis=1)\n",
    "categ_val_pred = np.argmax(model1.predict(img_val_np), axis=1)\n",
    "\n",
    "print(categ_val_num)\n",
    "print()\n",
    "print(categ_val_pred)"
   ]
  },
  {
   "cell_type": "code",
   "execution_count": 213,
   "id": "JYfpvIuQNc6A",
   "metadata": {
    "executionInfo": {
     "elapsed": 5,
     "status": "ok",
     "timestamp": 1684519194000,
     "user": {
      "displayName": "raquel sanchez-pellicer",
      "userId": "01837362977323571967"
     },
     "user_tz": -120
    },
    "id": "JYfpvIuQNc6A"
   },
   "outputs": [],
   "source": [
    "def conf_mat_transform(y_true, y_pred) :\n",
    "    conf_mat = metrics.confusion_matrix(y_true,y_pred)\n",
    "    \n",
    "    corresp = np.argmax(conf_mat, axis=0)\n",
    "    print (\"Correspondance des clusters : \", corresp)\n",
    "    # y_pred_transform = np.apply_along_axis(correspond_fct, 1, y_pred)\n",
    "    labels = pd.Series(y_true, name=\"y_true\").to_frame()\n",
    "    labels['y_pred'] = y_pred\n",
    "    labels['y_pred_transform'] = labels['y_pred'].apply(lambda x : corresp[x]) \n",
    "    \n",
    "    return labels['y_pred_transform']"
   ]
  },
  {
   "cell_type": "code",
   "execution_count": 329,
   "id": "sDl_QP_0OXPm",
   "metadata": {
    "colab": {
     "base_uri": "https://localhost:8080/"
    },
    "executionInfo": {
     "elapsed": 8,
     "status": "ok",
     "timestamp": 1684519194000,
     "user": {
      "displayName": "raquel sanchez-pellicer",
      "userId": "01837362977323571967"
     },
     "user_tz": -120
    },
    "id": "sDl_QP_0OXPm",
    "outputId": "7e92adcf-acb5-4385-9c82-48ed5fbbe8c6"
   },
   "outputs": [],
   "source": [
    "conf_mat = metrics.confusion_matrix(categ_val_num, categ_val_pred)\n",
    "# print(conf_mat)"
   ]
  },
  {
   "cell_type": "code",
   "execution_count": 336,
   "id": "0H3Akl5ROk6B",
   "metadata": {
    "colab": {
     "base_uri": "https://localhost:8080/",
     "height": 385
    },
    "executionInfo": {
     "elapsed": 624,
     "status": "ok",
     "timestamp": 1684519194622,
     "user": {
      "displayName": "raquel sanchez-pellicer",
      "userId": "01837362977323571967"
     },
     "user_tz": -120
    },
    "id": "0H3Akl5ROk6B",
    "outputId": "397283cc-ef6f-4923-8c5c-9d4155ba75a5"
   },
   "outputs": [
    {
     "data": {
      "image/png": "[encoded data removed]",
      "text/plain": [
       "<Figure size 600x400 with 2 Axes>"
      ]
     },
     "metadata": {},
     "output_type": "display_data"
    }
   ],
   "source": [
    "df_cm = pd.DataFrame(conf_mat, index=[categ for categ in categories_liste],\n",
    "                     columns=[i for i in \"0123456\"])\n",
    "plt.figure(figsize=(6, 4))\n",
    "\n",
    "sns.heatmap(df_cm, annot=True, cmap=\"Blues\")\n",
    "plt.title('Matrice de confusion')\n",
    "plt.xlabel('Prédictions')\n",
    "plt.ylabel('Valeurs réelles')\n",
    "plt.savefig(\"images/graph/conf_mat_model1.png\")\n",
    "\n",
    "plt.show()"
   ]
  },
  {
   "cell_type": "code",
   "execution_count": 328,
   "id": "ys9Vc4hHOX91",
   "metadata": {
    "colab": {
     "base_uri": "https://localhost:8080/"
    },
    "executionInfo": {
     "elapsed": 5,
     "status": "ok",
     "timestamp": 1684519194000,
     "user": {
      "displayName": "raquel sanchez-pellicer",
      "userId": "01837362977323571967"
     },
     "user_tz": -120
    },
    "id": "ys9Vc4hHOX91",
    "outputId": "92c9985d-a380-4a63-ef1d-03e0ee96b585"
   },
   "outputs": [
    {
     "name": "stdout",
     "output_type": "stream",
     "text": [
      "Correspondance des clusters :  [0 1 2 3 4 5 6]\n",
      "              precision    recall  f1-score   support\n",
      "\n",
      "           0       0.86      0.86      0.86         7\n",
      "           1       1.00      0.88      0.93         8\n",
      "           2       0.83      0.71      0.77         7\n",
      "           3       0.56      0.71      0.63         7\n",
      "           4       0.67      0.75      0.71         8\n",
      "           5       1.00      0.88      0.93         8\n",
      "           6       1.00      1.00      1.00         8\n",
      "\n",
      "    accuracy                           0.83        53\n",
      "   macro avg       0.84      0.83      0.83        53\n",
      "weighted avg       0.85      0.83      0.84        53\n",
      "\n"
     ]
    }
   ],
   "source": [
    "categ_val_pred_transform = conf_mat_transform(categ_val_num, categ_val_pred)\n",
    "conf_mat = metrics.confusion_matrix(categ_val_num, categ_val_pred_transform)\n",
    "\n",
    "print(metrics.classification_report(categ_val_num, categ_val_pred_transform))"
   ]
  },
  {
   "cell_type": "markdown",
   "id": "s86AEmj-QK12",
   "metadata": {
    "id": "s86AEmj-QK12"
   },
   "source": [
    "<div style=\"background-color: #52be80;\" >\n",
    "    <h3 style=\"margin: auto; padding: 20px; color:#fff; \">3.3. Approche ImageDatagenerator avec data augmentation</h3>\n",
    "</div>\n",
    "CF https://www.tensorflow.org/api_docs/python/tf/keras/preprocessing/image/ImageDataGenerator#flow (noté désormais comme \"deprecated\", incite à utiiser l'approche suivante)"
   ]
  },
  {
   "cell_type": "code",
   "execution_count": 216,
   "id": "88Yl9BeUbaIy",
   "metadata": {
    "executionInfo": {
     "elapsed": 4,
     "status": "ok",
     "timestamp": 1684519194622,
     "user": {
      "displayName": "raquel sanchez-pellicer",
      "userId": "01837362977323571967"
     },
     "user_tz": -120
    },
    "id": "88Yl9BeUbaIy"
   },
   "outputs": [],
   "source": [
    "# # Pour mélanger les images, éviter le classement par classe\n",
    "# df_reference = df_reference.sample(frac=1, random_state=42)\\\n",
    "#                                     .reset_index(drop=True)\n",
    "batch_size = 32\n",
    "\n",
    "# Sélectionner les caractéristiques et les étiquettes\n",
    "X = df_classif_superv[\"image\"]\n",
    "y = df_classif_superv[\"cat_label\"].astype(str)\n",
    "\n",
    "# Diviser en ensembles d'entraînement et de test\n",
    "X_train, X_tv, y_train, y_tv = train_test_split(X, y, test_size=0.2, random_state=42, stratify=y)\n",
    "\n",
    "# Diviser l'ensemble de test en ensembles de test et de validation\n",
    "X_test, X_val, y_test, y_val = train_test_split(X_tv, y_tv, test_size=0.25, random_state=42, stratify = y_tv)"
   ]
  },
  {
   "cell_type": "code",
   "execution_count": 217,
   "id": "00331589-6e4f-4912-b33f-504e46ac242a",
   "metadata": {},
   "outputs": [
    {
     "data": {
      "text/plain": [
       "1006    1\n",
       "869     4\n",
       "625     3\n",
       "968     0\n",
       "1021    2\n",
       "       ..\n",
       "187     5\n",
       "744     5\n",
       "779     1\n",
       "2       0\n",
       "400     2\n",
       "Name: cat_label, Length: 157, dtype: object"
      ]
     },
     "execution_count": 217,
     "metadata": {},
     "output_type": "execute_result"
    }
   ],
   "source": [
    "y_test"
   ]
  },
  {
   "cell_type": "code",
   "execution_count": 218,
   "id": "36550f4c-c381-451a-875c-001294818080",
   "metadata": {},
   "outputs": [],
   "source": [
    "df_train = pd.DataFrame({\"image\": X_train, \"cat_label\": y_train})\n",
    "df_test = pd.DataFrame({\"image\": X_test, \"cat_label\": y_test})\n",
    "df_val = pd.DataFrame({\"image\": X_val, \"cat_label\": y_val})"
   ]
  },
  {
   "cell_type": "code",
   "execution_count": 219,
   "id": "ANXbtvOiZ6Lc",
   "metadata": {
    "executionInfo": {
     "elapsed": 526,
     "status": "ok",
     "timestamp": 1684519195144,
     "user": {
      "displayName": "raquel sanchez-pellicer",
      "userId": "01837362977323571967"
     },
     "user_tz": -120
    },
    "id": "ANXbtvOiZ6Lc"
   },
   "outputs": [],
   "source": [
    "def data_flow_fct(data, datagen, data_type=None, batch_size=batch_size) :\n",
    "    data_flow = datagen.flow_from_dataframe(data, directory=path_images,\n",
    "                                x_col='image', y_col='cat_label',\n",
    "                                weight_col=None, target_size=(224, 224),\n",
    "                                classes=None, class_mode='categorical',\n",
    "                                batch_size=batch_size, shuffle=True, seed=seed\n",
    "                                )\n",
    "    return data_flow"
   ]
  },
  {
   "cell_type": "code",
   "execution_count": 220,
   "id": "bu5xxUAxSHw8",
   "metadata": {
    "colab": {
     "base_uri": "https://localhost:8080/"
    },
    "executionInfo": {
     "elapsed": 6,
     "status": "ok",
     "timestamp": 1684519195144,
     "user": {
      "displayName": "raquel sanchez-pellicer",
      "userId": "01837362977323571967"
     },
     "user_tz": -120
    },
    "id": "bu5xxUAxSHw8",
    "outputId": "5eb4221a-785a-4bcd-9308-52af260e691f"
   },
   "outputs": [
    {
     "name": "stdout",
     "output_type": "stream",
     "text": [
      "Found 840 validated image filenames belonging to 7 classes.\n",
      "Found 53 validated image filenames belonging to 7 classes.\n",
      "Found 157 validated image filenames belonging to 7 classes.\n"
     ]
    }
   ],
   "source": [
    "datagen_train = ImageDataGenerator(\n",
    "    #  featurewise_center=True,\n",
    "    #  featurewise_std_normalization=True,\n",
    "    rotation_range=20,\n",
    "    width_shift_range=0.2,\n",
    "    height_shift_range=0.2,\n",
    "    horizontal_flip=True,\n",
    "    preprocessing_function=preprocess_input)\n",
    "\n",
    "train_flow = data_flow_fct(df_train, datagen_train)\n",
    "val_flow = data_flow_fct(df_val, datagen_train)\n",
    "\n",
    "datagen_test = ImageDataGenerator(\n",
    "    validation_split=0,\n",
    "    preprocessing_function=preprocess_input)\n",
    "\n",
    "test_flow = data_flow_fct(df_test, datagen_test, data_type=None, batch_size=1)\n",
    "\n",
    "# compute quantities required for featurewise normalization\n",
    "# (std, mean, and principal components if ZCA whitening is applied)\n",
    "# datagen.fit(X_train)\n",
    "# fits the model on batches with real-time data augmentation:"
   ]
  },
  {
   "cell_type": "code",
   "execution_count": 221,
   "id": "Cob4h34gN4Qn",
   "metadata": {
    "colab": {
     "base_uri": "https://localhost:8080/"
    },
    "executionInfo": {
     "elapsed": 479,
     "status": "ok",
     "timestamp": 1684519195621,
     "user": {
      "displayName": "raquel sanchez-pellicer",
      "userId": "01837362977323571967"
     },
     "user_tz": -120
    },
    "id": "Cob4h34gN4Qn",
    "outputId": "6d277195-af02-410b-cfe5-9d6517083b25"
   },
   "outputs": [
    {
     "name": "stdout",
     "output_type": "stream",
     "text": [
      "Model: \"model_4\"\n",
      "_________________________________________________________________\n",
      " Layer (type)                Output Shape              Param #   \n",
      "=================================================================\n",
      " input_6 (InputLayer)        [(None, 224, 224, 3)]     0         \n",
      "                                                                 \n",
      " block1_conv1 (Conv2D)       (None, 224, 224, 64)      1792      \n",
      "                                                                 \n",
      " block1_conv2 (Conv2D)       (None, 224, 224, 64)      36928     \n",
      "                                                                 \n",
      " block1_pool (MaxPooling2D)  (None, 112, 112, 64)      0         \n",
      "                                                                 \n",
      " block2_conv1 (Conv2D)       (None, 112, 112, 128)     73856     \n",
      "                                                                 \n",
      " block2_conv2 (Conv2D)       (None, 112, 112, 128)     147584    \n",
      "                                                                 \n",
      " block2_pool (MaxPooling2D)  (None, 56, 56, 128)       0         \n",
      "                                                                 \n",
      " block3_conv1 (Conv2D)       (None, 56, 56, 256)       295168    \n",
      "                                                                 \n",
      " block3_conv2 (Conv2D)       (None, 56, 56, 256)       590080    \n",
      "                                                                 \n",
      " block3_conv3 (Conv2D)       (None, 56, 56, 256)       590080    \n",
      "                                                                 \n",
      " block3_pool (MaxPooling2D)  (None, 28, 28, 256)       0         \n",
      "                                                                 \n",
      " block4_conv1 (Conv2D)       (None, 28, 28, 512)       1180160   \n",
      "                                                                 \n",
      " block4_conv2 (Conv2D)       (None, 28, 28, 512)       2359808   \n",
      "                                                                 \n",
      " block4_conv3 (Conv2D)       (None, 28, 28, 512)       2359808   \n",
      "                                                                 \n",
      " block4_pool (MaxPooling2D)  (None, 14, 14, 512)       0         \n",
      "                                                                 \n",
      " block5_conv1 (Conv2D)       (None, 14, 14, 512)       2359808   \n",
      "                                                                 \n",
      " block5_conv2 (Conv2D)       (None, 14, 14, 512)       2359808   \n",
      "                                                                 \n",
      " block5_conv3 (Conv2D)       (None, 14, 14, 512)       2359808   \n",
      "                                                                 \n",
      " block5_pool (MaxPooling2D)  (None, 7, 7, 512)         0         \n",
      "                                                                 \n",
      " global_average_pooling2d_5  (None, 512)               0         \n",
      "  (GlobalAveragePooling2D)                                       \n",
      "                                                                 \n",
      " dense_10 (Dense)            (None, 256)               131328    \n",
      "                                                                 \n",
      " dropout_5 (Dropout)         (None, 256)               0         \n",
      "                                                                 \n",
      " dense_11 (Dense)            (None, 7)                 1799      \n",
      "                                                                 \n",
      "=================================================================\n",
      "Total params: 14847815 (56.64 MB)\n",
      "Trainable params: 133127 (520.03 KB)\n",
      "Non-trainable params: 14714688 (56.13 MB)\n",
      "_________________________________________________________________\n",
      "None\n"
     ]
    }
   ],
   "source": [
    "# Création du modèle\n",
    "\n",
    "model2 = create_model_VGG16_fct()\n",
    "\n",
    "# Création du callback\n",
    "model2_save_path = \"./model2_best_weights.h5\"\n",
    "checkpoint = ModelCheckpoint(model2_save_path, monitor='val_loss', verbose=1,\n",
    "                             save_best_only=True, mode='min')\n",
    "es = EarlyStopping(monitor='val_loss', mode='min', verbose=1, patience=5)\n",
    "callbacks_list = [checkpoint, es]"
   ]
  },
  {
   "cell_type": "code",
   "execution_count": 222,
   "id": "hOPa_wjoN4eC",
   "metadata": {
    "colab": {
     "base_uri": "https://localhost:8080/"
    },
    "executionInfo": {
     "elapsed": 560481,
     "status": "ok",
     "timestamp": 1684519756099,
     "user": {
      "displayName": "raquel sanchez-pellicer",
      "userId": "01837362977323571967"
     },
     "user_tz": -120
    },
    "id": "hOPa_wjoN4eC",
    "outputId": "0cd3f7bf-297a-4817-d4d2-1142887edf6a"
   },
   "outputs": [
    {
     "name": "stdout",
     "output_type": "stream",
     "text": [
      "Epoch 1/50\n",
      " 6/27 [=====>........................] - ETA: 1:00 - loss: 7.5373 - accuracy: 0.2292"
     ]
    },
    {
     "name": "stderr",
     "output_type": "stream",
     "text": [
      "C:\\Python\\Python311\\Lib\\site-packages\\PIL\\Image.py:3157: DecompressionBombWarning: Image size (93680328 pixels) exceeds limit of 89478485 pixels, could be decompression bomb DOS attack.\n",
      "  warnings.warn(\n"
     ]
    },
    {
     "name": "stdout",
     "output_type": "stream",
     "text": [
      "27/27 [==============================] - ETA: 0s - loss: 4.1592 - accuracy: 0.4607\n",
      "Epoch 1: val_loss improved from inf to 1.67467, saving model to .\\model2_best_weights.h5\n",
      "27/27 [==============================] - 82s 3s/step - loss: 4.1592 - accuracy: 0.4607 - val_loss: 1.6747 - val_accuracy: 0.6792\n",
      "Epoch 2/50\n"
     ]
    },
    {
     "name": "stderr",
     "output_type": "stream",
     "text": [
      "C:\\Python\\Python311\\Lib\\site-packages\\keras\\src\\engine\\training.py:3103: UserWarning: You are saving your model as an HDF5 file via `model.save()`. This file format is considered legacy. We recommend using instead the native Keras format, e.g. `model.save('my_model.keras')`.\n",
      "  saving_api.save_model(\n"
     ]
    },
    {
     "name": "stdout",
     "output_type": "stream",
     "text": [
      "27/27 [==============================] - ETA: 0s - loss: 1.6407 - accuracy: 0.6500\n",
      "Epoch 2: val_loss improved from 1.67467 to 1.24127, saving model to .\\model2_best_weights.h5\n",
      "27/27 [==============================] - 81s 3s/step - loss: 1.6407 - accuracy: 0.6500 - val_loss: 1.2413 - val_accuracy: 0.6981\n",
      "Epoch 3/50\n",
      "27/27 [==============================] - ETA: 0s - loss: 1.0511 - accuracy: 0.7357\n",
      "Epoch 3: val_loss improved from 1.24127 to 1.00135, saving model to .\\model2_best_weights.h5\n",
      "27/27 [==============================] - 86s 3s/step - loss: 1.0511 - accuracy: 0.7357 - val_loss: 1.0013 - val_accuracy: 0.7547\n",
      "Epoch 4/50\n",
      "27/27 [==============================] - ETA: 0s - loss: 0.8748 - accuracy: 0.7583\n",
      "Epoch 4: val_loss improved from 1.00135 to 0.66993, saving model to .\\model2_best_weights.h5\n",
      "27/27 [==============================] - 88s 3s/step - loss: 0.8748 - accuracy: 0.7583 - val_loss: 0.6699 - val_accuracy: 0.7736\n",
      "Epoch 5/50\n",
      "27/27 [==============================] - ETA: 0s - loss: 0.6411 - accuracy: 0.8190\n",
      "Epoch 5: val_loss did not improve from 0.66993\n",
      "27/27 [==============================] - 94s 3s/step - loss: 0.6411 - accuracy: 0.8190 - val_loss: 0.9987 - val_accuracy: 0.7170\n",
      "Epoch 6/50\n",
      "27/27 [==============================] - ETA: 0s - loss: 0.5959 - accuracy: 0.8286\n",
      "Epoch 6: val_loss did not improve from 0.66993\n",
      "27/27 [==============================] - 85s 3s/step - loss: 0.5959 - accuracy: 0.8286 - val_loss: 0.8474 - val_accuracy: 0.7736\n",
      "Epoch 7/50\n",
      "27/27 [==============================] - ETA: 0s - loss: 0.5071 - accuracy: 0.8429\n",
      "Epoch 7: val_loss did not improve from 0.66993\n",
      "27/27 [==============================] - 78s 3s/step - loss: 0.5071 - accuracy: 0.8429 - val_loss: 1.1205 - val_accuracy: 0.6981\n",
      "Epoch 8/50\n",
      "27/27 [==============================] - ETA: 0s - loss: 0.4627 - accuracy: 0.8571\n",
      "Epoch 8: val_loss did not improve from 0.66993\n",
      "27/27 [==============================] - 77s 3s/step - loss: 0.4627 - accuracy: 0.8571 - val_loss: 0.9210 - val_accuracy: 0.7736\n",
      "Epoch 9/50\n",
      "27/27 [==============================] - ETA: 0s - loss: 0.3379 - accuracy: 0.8905\n",
      "Epoch 9: val_loss did not improve from 0.66993\n",
      "27/27 [==============================] - 77s 3s/step - loss: 0.3379 - accuracy: 0.8905 - val_loss: 1.0505 - val_accuracy: 0.8113\n",
      "Epoch 9: early stopping\n"
     ]
    }
   ],
   "source": [
    "start_time = time.time()\n",
    "history2 = model2.fit(train_flow,\n",
    "                      validation_data=val_flow,\n",
    "                      batch_size=batch_size, epochs=50,\n",
    "                      callbacks=callbacks_list,\n",
    "                      verbose=1)\n",
    "tps_exec_model2 = round(time.time() - start_time,3)"
   ]
  },
  {
   "cell_type": "code",
   "execution_count": 223,
   "id": "B3k4hCFSN4gq",
   "metadata": {
    "colab": {
     "base_uri": "https://localhost:8080/"
    },
    "executionInfo": {
     "elapsed": 38520,
     "status": "ok",
     "timestamp": 1684519794608,
     "user": {
      "displayName": "raquel sanchez-pellicer",
      "userId": "01837362977323571967"
     },
     "user_tz": -120
    },
    "id": "B3k4hCFSN4gq",
    "outputId": "14e813ff-aff3-40fe-e967-73869ed4c9a0"
   },
   "outputs": [
    {
     "name": "stdout",
     "output_type": "stream",
     "text": [
      "27/27 [==============================] - 72s 3s/step - loss: 0.1392 - accuracy: 0.9536\n",
      "Training Accuracy   : 0.9536\n",
      "\n",
      "2/2 [==============================] - 5s 2s/step - loss: 1.1135 - accuracy: 0.7925\n",
      "Validation Accuracy :  0.7925\n"
     ]
    }
   ],
   "source": [
    "# Score du dernier epoch\n",
    "loss, accuracy = model2.evaluate(train_flow, verbose=True)\n",
    "print(\"Training Accuracy   : {:.4f}\".format(accuracy))\n",
    "print()\n",
    "\n",
    "loss, accuracy = model2.evaluate(val_flow, verbose=True)\n",
    "print(\"Validation Accuracy :  {:.4f}\".format(accuracy))"
   ]
  },
  {
   "cell_type": "code",
   "execution_count": 224,
   "id": "eeWOe7xlN4jo",
   "metadata": {
    "colab": {
     "base_uri": "https://localhost:8080/"
    },
    "executionInfo": {
     "elapsed": 25221,
     "status": "ok",
     "timestamp": 1684519820376,
     "user": {
      "displayName": "raquel sanchez-pellicer",
      "userId": "01837362977323571967"
     },
     "user_tz": -120
    },
    "id": "eeWOe7xlN4jo",
    "outputId": "dd0170d8-c21b-4503-bff7-24a06afef9dd"
   },
   "outputs": [
    {
     "name": "stdout",
     "output_type": "stream",
     "text": [
      "Validation Accuracy :  0.7736\n",
      "Test Accuracy       :  0.8217\n"
     ]
    }
   ],
   "source": [
    "# Score de l'epoch optimal\n",
    "model2.load_weights(model2_save_path)\n",
    "\n",
    "loss_vali_model2, accuracy_vali_model2 = model2.evaluate(val_flow,\n",
    "                                                         verbose=False)\n",
    "print(\"Validation Accuracy :  {:.4f}\".format(accuracy_vali_model2))\n",
    "\n",
    "loss_test_model2, accuracy_test_model2 = model2.evaluate(test_flow,\n",
    "                                                         verbose=False)\n",
    "print(\"Test Accuracy       :  {:.4f}\".format(accuracy_test_model2))"
   ]
  },
  {
   "cell_type": "code",
   "execution_count": 225,
   "id": "tFnq8Ssy3BJe",
   "metadata": {
    "executionInfo": {
     "elapsed": 12,
     "status": "ok",
     "timestamp": 1684519820377,
     "user": {
      "displayName": "raquel sanchez-pellicer",
      "userId": "01837362977323571967"
     },
     "user_tz": -120
    },
    "id": "tFnq8Ssy3BJe"
   },
   "outputs": [],
   "source": [
    "# Information à garder pour la comparaison des performances\n",
    "\n",
    "approach.append(\"ImgDataGenerator\")\n",
    "loss_vali_opt.append(loss_vali_model2)\n",
    "accuracy_vali_opt.append(accuracy_vali_model2)\n",
    "loss_test_opt.append(loss_test_model2)\n",
    "accuracy_test_opt.append(accuracy_test_model2)\n",
    "time_fit.append(tps_exec_model2) "
   ]
  },
  {
   "cell_type": "code",
   "execution_count": 226,
   "id": "jBfyGr8vN4mR",
   "metadata": {
    "colab": {
     "base_uri": "https://localhost:8080/",
     "height": 528
    },
    "executionInfo": {
     "elapsed": 1528,
     "status": "ok",
     "timestamp": 1684519821894,
     "user": {
      "displayName": "raquel sanchez-pellicer",
      "userId": "01837362977323571967"
     },
     "user_tz": -120
    },
    "id": "jBfyGr8vN4mR",
    "outputId": "7ab708e1-6c13-40c4-9295-c244b03cc90c"
   },
   "outputs": [
    {
     "data": {
      "image/png": "[encoded data removed]",
      "text/plain": [
       "<Figure size 1000x500 with 2 Axes>"
      ]
     },
     "metadata": {},
     "output_type": "display_data"
    }
   ],
   "source": [
    "show_history(history2)\n",
    "plot_history(history2, path=\"standard.png\")\n",
    "plt.savefig(\"images/graph/history_plot_model2.png\")\n",
    "plt.close()"
   ]
  },
  {
   "cell_type": "code",
   "execution_count": 338,
   "id": "4be0c450-cd58-4ed2-98b9-ab76ee9f2e95",
   "metadata": {
    "id": "pH6X-c1sO5FU"
   },
   "outputs": [
    {
     "name": "stdout",
     "output_type": "stream",
     "text": [
      "157/157 [==============================] - 16s 98ms/step\n"
     ]
    },
    {
     "data": {
      "image/png": "[encoded data removed]",
      "text/plain": [
       "<Figure size 640x480 with 2 Axes>"
      ]
     },
     "metadata": {},
     "output_type": "display_data"
    },
    {
     "name": "stdout",
     "output_type": "stream",
     "text": [
      "              precision    recall  f1-score   support\n",
      "\n",
      "           0       0.26      0.22      0.24        23\n",
      "           1       0.10      0.09      0.09        23\n",
      "           2       0.18      0.18      0.18        22\n",
      "           3       0.09      0.09      0.09        22\n",
      "           4       0.08      0.09      0.09        22\n",
      "           5       0.19      0.22      0.20        23\n",
      "           6       0.17      0.18      0.18        22\n",
      "\n",
      "    accuracy                           0.15       157\n",
      "   macro avg       0.15      0.15      0.15       157\n",
      "weighted avg       0.16      0.15      0.15       157\n",
      "\n"
     ]
    },
    {
     "data": {
      "text/plain": [
       "(0.15508389980981038, 0.15286624203821655, 0.15343511500547358, None)"
      ]
     },
     "execution_count": 338,
     "metadata": {},
     "output_type": "execute_result"
    }
   ],
   "source": [
    "evaluate_model_generator(model2, test_flow)"
   ]
  },
  {
   "cell_type": "markdown",
   "id": "4D7ZWUWLif11",
   "metadata": {
    "id": "4D7ZWUWLif11"
   },
   "source": [
    "<div style=\"background-color: #52be80;\" >\n",
    "    <h3 style=\"margin: auto; padding: 20px; color:#fff; \">3.4. Approche nouvelle par Dataset sans data augmentation</h3>\n",
    "</div>\n",
    "\n",
    "CF https://www.tensorflow.org/tutorials/load_data/images"
   ]
  },
  {
   "cell_type": "markdown",
   "id": "MO0vsjNJGoLg",
   "metadata": {
    "id": "MO0vsjNJGoLg"
   },
   "source": [
    "<div style=\"background-color: #52be80;\" >\n",
    "    <h4 style=\"margin: auto; padding: 20px; color:#fff; \">3.4.1. Modification structure dossier images</h4><a name=\"ponctuation_nonAlpha\"></a>\n",
    "</div>"
   ]
  },
  {
   "cell_type": "code",
   "execution_count": 227,
   "id": "ae1e19a5-d50a-4e1f-b070-8e760013928e",
   "metadata": {
    "id": "Pv0dsgtnMklz"
   },
   "outputs": [],
   "source": [
    "# Création des sous dossiers par catégorie\n",
    "col = \"Categ_N0\"\n",
    "\n",
    "# Dictionary mapping numerical labels to categorical values\n",
    "label_to_category = {\n",
    "    '0': 'Baby Care',\n",
    "    '1': 'Beauty and Personal Care',\n",
    "    '2': 'Computers',\n",
    "    '3': 'Home Decor & Festive Needs',\n",
    "    '4': 'Home Furnishing',\n",
    "    '5': 'Kitchen & Dining',\n",
    "    '6': 'Watches'\n",
    "}\n",
    "df_train_categ = df_train.copy()\n",
    "df_train_categ['Categ_N0'] = df_train_categ['cat_label'].map(label_to_category)\n",
    "\n",
    "df_test_categ = df_test.copy()\n",
    "df_test_categ['Categ_N0'] = df_test_categ['cat_label'].map(label_to_category)\n",
    "\n",
    "df_val_categ = df_val.copy()\n",
    "df_val_categ['Categ_N0'] = df_val_categ['cat_label'].map(label_to_category)\n",
    "\n",
    "\n",
    "# for value in df_train_categ[col]:\n",
    "#     Path(f'images/Images/img_subfolder/train_img/{value}')\\\n",
    "#           .mkdir(parents=True, exist_ok=True)\n",
    "\n",
    "# for value in df_test_categ[col]:\n",
    "#     Path(f'images/Images/img_subfolder/test_img/{value}')\\\n",
    "#           .mkdir(parents=True, exist_ok=True)\n",
    "\n",
    "# for value in df_val_categ[col]:\n",
    "#     Path(f'images/Images/img_subfolder/val_img/{value}')\\\n",
    "#           .mkdir(parents=True, exist_ok=True)"
   ]
  },
  {
   "cell_type": "code",
   "execution_count": 228,
   "id": "6ssPA_oEuqHR",
   "metadata": {
    "executionInfo": {
     "elapsed": 3,
     "status": "ok",
     "timestamp": 1684519821894,
     "user": {
      "displayName": "raquel sanchez-pellicer",
      "userId": "01837362977323571967"
     },
     "user_tz": -120
    },
    "id": "6ssPA_oEuqHR"
   },
   "outputs": [],
   "source": [
    "train_img_directory = \"images/Images/img_subfolder/train_img/\""
   ]
  },
  {
   "cell_type": "code",
   "execution_count": 229,
   "id": "6b2a78e2-10fb-4c02-80a1-234412f90f77",
   "metadata": {
    "id": "wmsVOCt2Okqi"
   },
   "outputs": [],
   "source": [
    "# df_train_categ.apply(lambda row: shutil.copyfile('images/Images/'+row['image'],\n",
    "#                                                (train_img_directory +\n",
    "#                                                 row['Categ_N0']+ '//' +\n",
    "#                                                 row['image'])), axis=1)"
   ]
  },
  {
   "cell_type": "code",
   "execution_count": 230,
   "id": "LmaT8zC1iq9I",
   "metadata": {
    "executionInfo": {
     "elapsed": 3,
     "status": "ok",
     "timestamp": 1684519821894,
     "user": {
      "displayName": "raquel sanchez-pellicer",
      "userId": "01837362977323571967"
     },
     "user_tz": -120
    },
    "id": "LmaT8zC1iq9I"
   },
   "outputs": [],
   "source": [
    "test_directory = \"images/Images/img_subfolder/test_img/\""
   ]
  },
  {
   "cell_type": "code",
   "execution_count": 231,
   "id": "d7ef7230-25de-41bf-81c7-a8a317666ad3",
   "metadata": {
    "id": "E1YZ96dcV2Vu"
   },
   "outputs": [],
   "source": [
    "# df_test_categ.apply(lambda row: shutil.copyfile('images/Images/'+row['image'], (test_directory +\n",
    "#                                                              row['Categ_N0']+\n",
    "#                                                              '//'\n",
    "#                                                               + row['image'])),\n",
    "#                axis=1)"
   ]
  },
  {
   "cell_type": "code",
   "execution_count": 232,
   "id": "76f97563-9e14-4844-9d74-2003caf3a2b8",
   "metadata": {
    "executionInfo": {
     "elapsed": 3,
     "status": "ok",
     "timestamp": 1684519821894,
     "user": {
      "displayName": "raquel sanchez-pellicer",
      "userId": "01837362977323571967"
     },
     "user_tz": -120
    },
    "id": "LmaT8zC1iq9I"
   },
   "outputs": [],
   "source": [
    "val_directory = \"images/Images/img_subfolder/val_img/\""
   ]
  },
  {
   "cell_type": "code",
   "execution_count": 233,
   "id": "ed0013f9-68df-44ab-a8cb-536c3a9299ef",
   "metadata": {
    "id": "E1YZ96dcV2Vu"
   },
   "outputs": [],
   "source": [
    "# df_val_categ.apply(lambda row: shutil.copyfile('images/Images/'+row['image'], (val_directory +\n",
    "#                                                              row['Categ_N0']+\n",
    "#                                                              '//'\n",
    "#                                                               + row['image'])),\n",
    "#                axis=1)"
   ]
  },
  {
   "cell_type": "markdown",
   "id": "SURzIysrG2lr",
   "metadata": {
    "id": "SURzIysrG2lr"
   },
   "source": [
    "<div style=\"background-color: #52be80;\" >\n",
    "    <h4 style=\"margin: auto; padding: 20px; color:#fff; \">3.4.2. Application approche par Dataset</h4><a name=\"ponctuation_nonAlpha\"></a>\n",
    "</div>"
   ]
  },
  {
   "cell_type": "code",
   "execution_count": 234,
   "id": "WA4luW-ciiAP",
   "metadata": {
    "executionInfo": {
     "elapsed": 2,
     "status": "ok",
     "timestamp": 1684519821894,
     "user": {
      "displayName": "raquel sanchez-pellicer",
      "userId": "01837362977323571967"
     },
     "user_tz": -120
    },
    "id": "WA4luW-ciiAP"
   },
   "outputs": [],
   "source": [
    "batch_size = 32\n",
    "\n",
    "def dataset_fct(path, validation_split=0, data_type=None) :\n",
    "    dataset = tensorflow.keras.utils.image_dataset_from_directory(\n",
    "                    path, labels='inferred', label_mode='categorical',\n",
    "                    class_names=None, batch_size=32, image_size=(224, 224),\n",
    "                    shuffle=True, seed=42,\n",
    "                    subset=data_type\n",
    "                    )\n",
    "    return dataset\n"
   ]
  },
  {
   "cell_type": "code",
   "execution_count": 235,
   "id": "YvM_o5Q3Z6Nn",
   "metadata": {
    "colab": {
     "base_uri": "https://localhost:8080/"
    },
    "executionInfo": {
     "elapsed": 4367,
     "status": "ok",
     "timestamp": 1684519826259,
     "user": {
      "displayName": "raquel sanchez-pellicer",
      "userId": "01837362977323571967"
     },
     "user_tz": -120
    },
    "id": "YvM_o5Q3Z6Nn",
    "outputId": "23d6df69-875c-4ab7-dde9-5eaea7d1b7c5"
   },
   "outputs": [
    {
     "name": "stdout",
     "output_type": "stream",
     "text": [
      "Found 840 files belonging to 7 classes.\n",
      "Found 53 files belonging to 7 classes.\n",
      "Found 157 files belonging to 7 classes.\n"
     ]
    }
   ],
   "source": [
    "dataset_train = dataset_fct(train_img_directory)\n",
    "dataset_val = dataset_fct(val_directory)\n",
    "dataset_test = dataset_fct(test_directory)"
   ]
  },
  {
   "cell_type": "code",
   "execution_count": 236,
   "id": "f76e404c-eb17-461e-8f7e-6dc849c90758",
   "metadata": {
    "colab": {
     "base_uri": "https://localhost:8080/"
    },
    "executionInfo": {
     "elapsed": 473,
     "status": "ok",
     "timestamp": 1684519826722,
     "user": {
      "displayName": "raquel sanchez-pellicer",
      "userId": "01837362977323571967"
     },
     "user_tz": -120
    },
    "id": "f76e404c-eb17-461e-8f7e-6dc849c90758",
    "outputId": "f36339be-cc29-43a8-ac99-37e4690fed2e"
   },
   "outputs": [
    {
     "name": "stdout",
     "output_type": "stream",
     "text": [
      "Model: \"model_5\"\n",
      "_________________________________________________________________\n",
      " Layer (type)                Output Shape              Param #   \n",
      "=================================================================\n",
      " input_7 (InputLayer)        [(None, 224, 224, 3)]     0         \n",
      "                                                                 \n",
      " block1_conv1 (Conv2D)       (None, 224, 224, 64)      1792      \n",
      "                                                                 \n",
      " block1_conv2 (Conv2D)       (None, 224, 224, 64)      36928     \n",
      "                                                                 \n",
      " block1_pool (MaxPooling2D)  (None, 112, 112, 64)      0         \n",
      "                                                                 \n",
      " block2_conv1 (Conv2D)       (None, 112, 112, 128)     73856     \n",
      "                                                                 \n",
      " block2_conv2 (Conv2D)       (None, 112, 112, 128)     147584    \n",
      "                                                                 \n",
      " block2_pool (MaxPooling2D)  (None, 56, 56, 128)       0         \n",
      "                                                                 \n",
      " block3_conv1 (Conv2D)       (None, 56, 56, 256)       295168    \n",
      "                                                                 \n",
      " block3_conv2 (Conv2D)       (None, 56, 56, 256)       590080    \n",
      "                                                                 \n",
      " block3_conv3 (Conv2D)       (None, 56, 56, 256)       590080    \n",
      "                                                                 \n",
      " block3_pool (MaxPooling2D)  (None, 28, 28, 256)       0         \n",
      "                                                                 \n",
      " block4_conv1 (Conv2D)       (None, 28, 28, 512)       1180160   \n",
      "                                                                 \n",
      " block4_conv2 (Conv2D)       (None, 28, 28, 512)       2359808   \n",
      "                                                                 \n",
      " block4_conv3 (Conv2D)       (None, 28, 28, 512)       2359808   \n",
      "                                                                 \n",
      " block4_pool (MaxPooling2D)  (None, 14, 14, 512)       0         \n",
      "                                                                 \n",
      " block5_conv1 (Conv2D)       (None, 14, 14, 512)       2359808   \n",
      "                                                                 \n",
      " block5_conv2 (Conv2D)       (None, 14, 14, 512)       2359808   \n",
      "                                                                 \n",
      " block5_conv3 (Conv2D)       (None, 14, 14, 512)       2359808   \n",
      "                                                                 \n",
      " block5_pool (MaxPooling2D)  (None, 7, 7, 512)         0         \n",
      "                                                                 \n",
      " global_average_pooling2d_6  (None, 512)               0         \n",
      "  (GlobalAveragePooling2D)                                       \n",
      "                                                                 \n",
      " dense_12 (Dense)            (None, 256)               131328    \n",
      "                                                                 \n",
      " dropout_6 (Dropout)         (None, 256)               0         \n",
      "                                                                 \n",
      " dense_13 (Dense)            (None, 7)                 1799      \n",
      "                                                                 \n",
      "=================================================================\n",
      "Total params: 14847815 (56.64 MB)\n",
      "Trainable params: 133127 (520.03 KB)\n",
      "Non-trainable params: 14714688 (56.13 MB)\n",
      "_________________________________________________________________\n",
      "None\n"
     ]
    }
   ],
   "source": [
    "# Création du modèle\n",
    "with tensorflow.device('/gpu:0'):\n",
    "    model3 = create_model_VGG16_fct()\n",
    "\n",
    "# Création du callback\n",
    "model3_save_path = \"./model3_best_weights.h5\"\n",
    "checkpoint = ModelCheckpoint(model3_save_path, monitor='val_loss', verbose=1,\n",
    "                             save_best_only=True, mode='min')\n",
    "es = EarlyStopping(monitor='val_loss', mode='min', verbose=1, patience=5)\n",
    "callbacks_list = [checkpoint, es]"
   ]
  },
  {
   "cell_type": "code",
   "execution_count": 237,
   "id": "-_HBvFNUjK1z",
   "metadata": {
    "colab": {
     "base_uri": "https://localhost:8080/"
    },
    "executionInfo": {
     "elapsed": 314529,
     "status": "ok",
     "timestamp": 1684520141248,
     "user": {
      "displayName": "raquel sanchez-pellicer",
      "userId": "01837362977323571967"
     },
     "user_tz": -120
    },
    "id": "-_HBvFNUjK1z",
    "outputId": "b82f916c-52ef-4b3a-a71b-d7c0fcc29659"
   },
   "outputs": [
    {
     "name": "stdout",
     "output_type": "stream",
     "text": [
      "Epoch 1/50\n",
      "27/27 [==============================] - ETA: 0s - loss: 5.4402 - accuracy: 0.5036\n",
      "Epoch 1: val_loss improved from inf to 1.22086, saving model to .\\model3_best_weights.h5\n",
      "27/27 [==============================] - 78s 3s/step - loss: 5.4402 - accuracy: 0.5036 - val_loss: 1.2209 - val_accuracy: 0.6792\n",
      "Epoch 2/50\n"
     ]
    },
    {
     "name": "stderr",
     "output_type": "stream",
     "text": [
      "C:\\Python\\Python311\\Lib\\site-packages\\keras\\src\\engine\\training.py:3103: UserWarning: You are saving your model as an HDF5 file via `model.save()`. This file format is considered legacy. We recommend using instead the native Keras format, e.g. `model.save('my_model.keras')`.\n",
      "  saving_api.save_model(\n"
     ]
    },
    {
     "name": "stdout",
     "output_type": "stream",
     "text": [
      "27/27 [==============================] - ETA: 0s - loss: 2.1199 - accuracy: 0.6833\n",
      "Epoch 2: val_loss did not improve from 1.22086\n",
      "27/27 [==============================] - 75s 3s/step - loss: 2.1199 - accuracy: 0.6833 - val_loss: 1.2758 - val_accuracy: 0.7358\n",
      "Epoch 3/50\n",
      "27/27 [==============================] - ETA: 0s - loss: 1.4152 - accuracy: 0.7548\n",
      "Epoch 3: val_loss improved from 1.22086 to 1.06862, saving model to .\\model3_best_weights.h5\n",
      "27/27 [==============================] - 76s 3s/step - loss: 1.4152 - accuracy: 0.7548 - val_loss: 1.0686 - val_accuracy: 0.7547\n",
      "Epoch 4/50\n",
      "27/27 [==============================] - ETA: 0s - loss: 0.9137 - accuracy: 0.7940\n",
      "Epoch 4: val_loss improved from 1.06862 to 0.86888, saving model to .\\model3_best_weights.h5\n",
      "27/27 [==============================] - 75s 3s/step - loss: 0.9137 - accuracy: 0.7940 - val_loss: 0.8689 - val_accuracy: 0.7736\n",
      "Epoch 5/50\n",
      "27/27 [==============================] - ETA: 0s - loss: 0.6908 - accuracy: 0.8226\n",
      "Epoch 5: val_loss did not improve from 0.86888\n",
      "27/27 [==============================] - 75s 3s/step - loss: 0.6908 - accuracy: 0.8226 - val_loss: 0.8725 - val_accuracy: 0.7736\n",
      "Epoch 6/50\n",
      "27/27 [==============================] - ETA: 0s - loss: 0.4958 - accuracy: 0.8500\n",
      "Epoch 6: val_loss improved from 0.86888 to 0.49666, saving model to .\\model3_best_weights.h5\n",
      "27/27 [==============================] - 75s 3s/step - loss: 0.4958 - accuracy: 0.8500 - val_loss: 0.4967 - val_accuracy: 0.8113\n",
      "Epoch 7/50\n",
      "27/27 [==============================] - ETA: 0s - loss: 0.3524 - accuracy: 0.9012\n",
      "Epoch 7: val_loss did not improve from 0.49666\n",
      "27/27 [==============================] - 75s 3s/step - loss: 0.3524 - accuracy: 0.9012 - val_loss: 0.7629 - val_accuracy: 0.7925\n",
      "Epoch 8/50\n",
      "27/27 [==============================] - ETA: 0s - loss: 0.3018 - accuracy: 0.9071\n",
      "Epoch 8: val_loss did not improve from 0.49666\n",
      "27/27 [==============================] - 75s 3s/step - loss: 0.3018 - accuracy: 0.9071 - val_loss: 0.9897 - val_accuracy: 0.7736\n",
      "Epoch 9/50\n",
      "27/27 [==============================] - ETA: 0s - loss: 0.2314 - accuracy: 0.9274\n",
      "Epoch 9: val_loss did not improve from 0.49666\n",
      "27/27 [==============================] - 75s 3s/step - loss: 0.2314 - accuracy: 0.9274 - val_loss: 1.0335 - val_accuracy: 0.7925\n",
      "Epoch 10/50\n",
      "27/27 [==============================] - ETA: 0s - loss: 0.2450 - accuracy: 0.9179\n",
      "Epoch 10: val_loss did not improve from 0.49666\n",
      "27/27 [==============================] - 75s 3s/step - loss: 0.2450 - accuracy: 0.9179 - val_loss: 0.8588 - val_accuracy: 0.8113\n",
      "Epoch 11/50\n",
      "27/27 [==============================] - ETA: 0s - loss: 0.2270 - accuracy: 0.9452\n",
      "Epoch 11: val_loss did not improve from 0.49666\n",
      "27/27 [==============================] - 75s 3s/step - loss: 0.2270 - accuracy: 0.9452 - val_loss: 1.0566 - val_accuracy: 0.8113\n",
      "Epoch 11: early stopping\n"
     ]
    }
   ],
   "source": [
    "start_time = time.time()\n",
    "history3 = model3.fit(dataset_train,\n",
    "                      validation_data=dataset_val,\n",
    "                      batch_size=batch_size, epochs=50,\n",
    "                      callbacks=callbacks_list,\n",
    "                      verbose=1)\n",
    "tps_exec_model3 = round(time.time() - start_time,3)"
   ]
  },
  {
   "cell_type": "code",
   "execution_count": null,
   "id": "98d9a9ba-3252-41b4-bd9f-a7af156107a3",
   "metadata": {},
   "outputs": [],
   "source": []
  },
  {
   "cell_type": "code",
   "execution_count": 238,
   "id": "qH5LdSqcjK7G",
   "metadata": {
    "colab": {
     "base_uri": "https://localhost:8080/"
    },
    "executionInfo": {
     "elapsed": 7587,
     "status": "ok",
     "timestamp": 1684520148824,
     "user": {
      "displayName": "raquel sanchez-pellicer",
      "userId": "01837362977323571967"
     },
     "user_tz": -120
    },
    "id": "qH5LdSqcjK7G",
    "outputId": "766edd59-646f-410e-882f-aa6bdc07b47e"
   },
   "outputs": [
    {
     "name": "stdout",
     "output_type": "stream",
     "text": [
      "27/27 [==============================] - 71s 3s/step - loss: 0.0137 - accuracy: 0.9964\n",
      "Training Accuracy   : 0.9964\n",
      "\n",
      "2/2 [==============================] - 5s 2s/step - loss: 1.0566 - accuracy: 0.8113\n",
      "Validation Accuracy :  0.8113\n"
     ]
    }
   ],
   "source": [
    "# Score du dernier epoch\n",
    "\n",
    "loss, accuracy = model3.evaluate(dataset_train, verbose=True)\n",
    "print(\"Training Accuracy   : {:.4f}\".format(accuracy))\n",
    "print()\n",
    "loss, accuracy = model3.evaluate(dataset_val, verbose=True)\n",
    "print(\"Validation Accuracy :  {:.4f}\".format(accuracy))"
   ]
  },
  {
   "cell_type": "code",
   "execution_count": 239,
   "id": "eqb0M59ujcEY",
   "metadata": {
    "colab": {
     "base_uri": "https://localhost:8080/"
    },
    "executionInfo": {
     "elapsed": 55409,
     "status": "ok",
     "timestamp": 1684520204223,
     "user": {
      "displayName": "raquel sanchez-pellicer",
      "userId": "01837362977323571967"
     },
     "user_tz": -120
    },
    "id": "eqb0M59ujcEY",
    "outputId": "8d9dc00a-fb3c-4c6a-c803-981128cc909a"
   },
   "outputs": [
    {
     "name": "stdout",
     "output_type": "stream",
     "text": [
      "Validation Accuracy :  0.8113\n",
      "Test Accuracy       :  0.8153\n"
     ]
    }
   ],
   "source": [
    "# Score de l'epoch optimal\n",
    "\n",
    "model3.load_weights(model3_save_path)\n",
    "\n",
    "loss_vali_model3, accuracy_vali_model3 = model3.evaluate(dataset_val,\n",
    "                                                         verbose=False)\n",
    "print(\"Validation Accuracy :  {:.4f}\".format(accuracy_vali_model3))\n",
    "\n",
    "loss_test_model3, accuracy_test_model3 = model3.evaluate(dataset_test,\n",
    "                                                         verbose=False)\n",
    "print(\"Test Accuracy       :  {:.4f}\".format(accuracy_test_model3))"
   ]
  },
  {
   "cell_type": "code",
   "execution_count": 335,
   "id": "ce0e0492-65bf-46c7-8425-66ba85763c5a",
   "metadata": {},
   "outputs": [
    {
     "data": {
      "image/png": "[encoded data removed]",
      "text/plain": [
       "<Figure size 600x400 with 2 Axes>"
      ]
     },
     "metadata": {},
     "output_type": "display_data"
    },
    {
     "name": "stdout",
     "output_type": "stream",
     "text": [
      "              precision    recall  f1-score   support\n",
      "\n",
      "           0       0.83      0.65      0.73        23\n",
      "           1       0.94      0.74      0.83        23\n",
      "           2       0.77      0.91      0.83        22\n",
      "           3       0.76      0.73      0.74        22\n",
      "           4       0.71      0.91      0.80        22\n",
      "           5       0.86      0.83      0.84        23\n",
      "           6       0.88      0.95      0.91        22\n",
      "\n",
      "    accuracy                           0.82       157\n",
      "   macro avg       0.82      0.82      0.81       157\n",
      "weighted avg       0.82      0.82      0.81       157\n",
      "\n"
     ]
    },
    {
     "data": {
      "text/plain": [
       "(0.11580428115736893, 0.12101910828025478, 0.11809529223788498, None)"
      ]
     },
     "execution_count": 335,
     "metadata": {},
     "output_type": "execute_result"
    }
   ],
   "source": [
    "evaluate_model_dataset(model3, dataset_test, name=\"model3\")"
   ]
  },
  {
   "cell_type": "code",
   "execution_count": 240,
   "id": "rDgzj1gO3cFH",
   "metadata": {
    "executionInfo": {
     "elapsed": 14,
     "status": "ok",
     "timestamp": 1684520204223,
     "user": {
      "displayName": "raquel sanchez-pellicer",
      "userId": "01837362977323571967"
     },
     "user_tz": -120
    },
    "id": "rDgzj1gO3cFH"
   },
   "outputs": [],
   "source": [
    "# Information à garder pour la comparaison des performances\n",
    "\n",
    "approach.append(\"New_approach_without_dataAugm\")\n",
    "loss_vali_opt.append(loss_vali_model3)\n",
    "accuracy_vali_opt.append(accuracy_vali_model3)\n",
    "loss_test_opt.append(loss_test_model3)\n",
    "accuracy_test_opt.append(accuracy_test_model3)\n",
    "time_fit.append(tps_exec_model3)"
   ]
  },
  {
   "cell_type": "code",
   "execution_count": 241,
   "id": "f1-d9TWEjcKh",
   "metadata": {
    "colab": {
     "base_uri": "https://localhost:8080/",
     "height": 528
    },
    "executionInfo": {
     "elapsed": 1651,
     "status": "ok",
     "timestamp": 1684520205861,
     "user": {
      "displayName": "raquel sanchez-pellicer",
      "userId": "01837362977323571967"
     },
     "user_tz": -120
    },
    "id": "f1-d9TWEjcKh",
    "outputId": "f8184a35-6c4c-489e-bffd-e8ce95fe49b2"
   },
   "outputs": [
    {
     "data": {
      "image/png": "[encoded data removed]",
      "text/plain": [
       "<Figure size 1000x500 with 2 Axes>"
      ]
     },
     "metadata": {},
     "output_type": "display_data"
    }
   ],
   "source": [
    "show_history(history3)\n",
    "plot_history(history3, path=\"standard.png\")\n",
    "plt.savefig(\"images/graph/history_plot_model3.png\")\n",
    "plt.close()"
   ]
  },
  {
   "cell_type": "code",
   "execution_count": null,
   "id": "3bc2455a-1d77-4079-a346-94a5be29d948",
   "metadata": {},
   "outputs": [],
   "source": []
  },
  {
   "cell_type": "markdown",
   "id": "_qZANmegkJk5",
   "metadata": {
    "id": "_qZANmegkJk5"
   },
   "source": [
    "<div style=\"background-color: #52be80;\" >\n",
    "    <h3 style=\"margin: auto; padding: 20px; color:#fff; \">3.5. Approche nouvelle par Dataset avec data augmentation intégrée au modèle</h3>\n",
    "</div>\n",
    "\n",
    "CF https://www.tensorflow.org/tutorials/images/data_augmentation"
   ]
  },
  {
   "cell_type": "code",
   "execution_count": 242,
   "id": "HaMpE0QPjcQP",
   "metadata": {
    "executionInfo": {
     "elapsed": 4,
     "status": "ok",
     "timestamp": 1684520205862,
     "user": {
      "displayName": "raquel sanchez-pellicer",
      "userId": "01837362977323571967"
     },
     "user_tz": -120
    },
    "id": "HaMpE0QPjcQP"
   },
   "outputs": [],
   "source": [
    "# batch_size = 32\n",
    "\n",
    "# def dataset_fct(path, validation_split=0, data_type=None) :\n",
    "#     dataset = tensorflow.keras.utils.image_dataset_from_directory(\n",
    "#                     path, labels='inferred', label_mode='categorical',\n",
    "#                     class_names=None, batch_size=batch_size,\n",
    "#                     image_size=(224, 224), shuffle=True, seed=42,\n",
    "#                     validation_split=validation_split, subset=data_type\n",
    "#                     )\n",
    "#     return dataset"
   ]
  },
  {
   "cell_type": "code",
   "execution_count": 243,
   "id": "9-HpYOjQkDzZ",
   "metadata": {
    "colab": {
     "base_uri": "https://localhost:8080/"
    },
    "executionInfo": {
     "elapsed": 436,
     "status": "ok",
     "timestamp": 1684520206294,
     "user": {
      "displayName": "raquel sanchez-pellicer",
      "userId": "01837362977323571967"
     },
     "user_tz": -120
    },
    "id": "9-HpYOjQkDzZ",
    "outputId": "94c880be-97b7-4781-f888-4aa043dd391c"
   },
   "outputs": [],
   "source": [
    "# dataset_train = dataset_fct(train_val_directory, validation_split=0.25,\n",
    "#                             data_type='training')\n",
    "# dataset_val = dataset_fct(train_val_directory, validation_split=0.25,\n",
    "#                           data_type='validation')\n",
    "# dataset_test = dataset_fct(test_directory, validation_split=0, data_type=None)"
   ]
  },
  {
   "cell_type": "code",
   "execution_count": 244,
   "id": "c10f7948-9791-4138-8e4a-28441815ff75",
   "metadata": {
    "id": "dRptGGlbkD5_"
   },
   "outputs": [],
   "source": [
    "def resize_and_rescale(image, label):\n",
    "    image = tensorflow.cast(image, tensorflow.float32)\n",
    "    image = tensorflow.image.resize(image, [IMG_SIZE, IMG_SIZE])\n",
    "    image = (image / 255.0)\n",
    "    return image, label"
   ]
  },
  {
   "cell_type": "code",
   "execution_count": 245,
   "id": "xMfUAKN6kEAA",
   "metadata": {
    "executionInfo": {
     "elapsed": 3,
     "status": "ok",
     "timestamp": 1684520206294,
     "user": {
      "displayName": "raquel sanchez-pellicer",
      "userId": "01837362977323571967"
     },
     "user_tz": -120
    },
    "id": "xMfUAKN6kEAA"
   },
   "outputs": [],
   "source": [
    "def create_model_fct2() :\n",
    "    # Data augmentation\n",
    "    data_augmentation = Sequential([\n",
    "        RandomFlip(\"horizontal\", input_shape=(224, 224, 3)),\n",
    "        RandomRotation(0.1),\n",
    "        RandomZoom(0.1),\n",
    "        # Rescaling(1./127.5, offset=-1.0)\n",
    "      ])\n",
    "    \n",
    "    # Récupération modèle pré-entraîné\n",
    "    model_base = VGG16(include_top=False, weights=\"imagenet\",\n",
    "                       input_shape=(224, 224, 3))\n",
    "    for layer in model_base.layers:\n",
    "        layer.trainable = False\n",
    "\n",
    "    # Définition du nouveau modèle\n",
    "    model = Sequential([\n",
    "                data_augmentation,\n",
    "                Rescaling(1./127.5, offset=-1),\n",
    "                model_base,\n",
    "                GlobalAveragePooling2D(),\n",
    "                Dense(256, activation='relu'),\n",
    "                Dropout(0.5),\n",
    "                Dense(7, activation='softmax')\n",
    "                ])\n",
    "\n",
    "    # compilation du modèle \n",
    "    model.compile(loss=\"categorical_crossentropy\", optimizer='adam',\n",
    "                  metrics=[\"accuracy\"])\n",
    "\n",
    "    print(model.summary())\n",
    "    \n",
    "    return model"
   ]
  },
  {
   "cell_type": "code",
   "execution_count": 246,
   "id": "Wk8G7-c4kEGJ",
   "metadata": {
    "colab": {
     "base_uri": "https://localhost:8080/"
    },
    "executionInfo": {
     "elapsed": 1212,
     "status": "ok",
     "timestamp": 1684520207504,
     "user": {
      "displayName": "raquel sanchez-pellicer",
      "userId": "01837362977323571967"
     },
     "user_tz": -120
    },
    "id": "Wk8G7-c4kEGJ",
    "outputId": "bb2263db-3a3c-4681-9252-beded0b23946"
   },
   "outputs": [
    {
     "name": "stdout",
     "output_type": "stream",
     "text": [
      "Model: \"sequential_3\"\n",
      "_________________________________________________________________\n",
      " Layer (type)                Output Shape              Param #   \n",
      "=================================================================\n",
      " sequential_2 (Sequential)   (None, 224, 224, 3)       0         \n",
      "                                                                 \n",
      " rescaling_1 (Rescaling)     (None, 224, 224, 3)       0         \n",
      "                                                                 \n",
      " vgg16 (Functional)          (None, 7, 7, 512)         14714688  \n",
      "                                                                 \n",
      " global_average_pooling2d_7  (None, 512)               0         \n",
      "  (GlobalAveragePooling2D)                                       \n",
      "                                                                 \n",
      " dense_14 (Dense)            (None, 256)               131328    \n",
      "                                                                 \n",
      " dropout_7 (Dropout)         (None, 256)               0         \n",
      "                                                                 \n",
      " dense_15 (Dense)            (None, 7)                 1799      \n",
      "                                                                 \n",
      "=================================================================\n",
      "Total params: 14847815 (56.64 MB)\n",
      "Trainable params: 133127 (520.03 KB)\n",
      "Non-trainable params: 14714688 (56.13 MB)\n",
      "_________________________________________________________________\n",
      "None\n"
     ]
    }
   ],
   "source": [
    "# Création du modèle\n",
    "with tensorflow.device('/gpu:0'):\n",
    "    model4 = create_model_fct2()\n",
    "\n",
    "# Création du callback\n",
    "model4_save_path = \"./model4_best_weights.h5\"\n",
    "checkpoint = ModelCheckpoint(model4_save_path, monitor='val_loss', verbose=1,\n",
    "                             save_best_only=True, mode='min')\n",
    "es = EarlyStopping(monitor='val_loss', mode='min', verbose=1, patience=5)\n",
    "callbacks_list = [checkpoint, es]"
   ]
  },
  {
   "cell_type": "code",
   "execution_count": 247,
   "id": "w1MXpGDzkEMK",
   "metadata": {
    "colab": {
     "base_uri": "https://localhost:8080/"
    },
    "executionInfo": {
     "elapsed": 6,
     "status": "ok",
     "timestamp": 1684520207504,
     "user": {
      "displayName": "raquel sanchez-pellicer",
      "userId": "01837362977323571967"
     },
     "user_tz": -120
    },
    "id": "w1MXpGDzkEMK",
    "outputId": "7ff855b9-3b25-49a5-92e7-7ac2a3feab7a"
   },
   "outputs": [
    {
     "name": "stdout",
     "output_type": "stream",
     "text": [
      "Num GPUs Available:  0\n"
     ]
    }
   ],
   "source": [
    "print(\"Num GPUs Available: \", len(tensorflow.config\n",
    "                                  .list_physical_devices('GPU')))"
   ]
  },
  {
   "cell_type": "code",
   "execution_count": 248,
   "id": "fmJ5u-bKkESP",
   "metadata": {
    "colab": {
     "base_uri": "https://localhost:8080/"
    },
    "executionInfo": {
     "elapsed": 330644,
     "status": "ok",
     "timestamp": 1684520538145,
     "user": {
      "displayName": "raquel sanchez-pellicer",
      "userId": "01837362977323571967"
     },
     "user_tz": -120
    },
    "id": "fmJ5u-bKkESP",
    "outputId": "761c6979-3322-49e1-ad96-c71c110ac8ee"
   },
   "outputs": [
    {
     "name": "stdout",
     "output_type": "stream",
     "text": [
      "Epoch 1/50\n",
      "27/27 [==============================] - ETA: 0s - loss: 1.7840 - accuracy: 0.3202\n",
      "Epoch 1: val_loss improved from inf to 1.37743, saving model to .\\model4_best_weights.h5\n",
      "27/27 [==============================] - 78s 3s/step - loss: 1.7840 - accuracy: 0.3202 - val_loss: 1.3774 - val_accuracy: 0.6604\n",
      "Epoch 2/50\n",
      "27/27 [==============================] - ETA: 0s - loss: 1.3000 - accuracy: 0.5869\n",
      "Epoch 2: val_loss improved from 1.37743 to 1.07843, saving model to .\\model4_best_weights.h5\n",
      "27/27 [==============================] - 77s 3s/step - loss: 1.3000 - accuracy: 0.5869 - val_loss: 1.0784 - val_accuracy: 0.7170\n",
      "Epoch 3/50\n",
      "27/27 [==============================] - ETA: 0s - loss: 1.0612 - accuracy: 0.6595\n",
      "Epoch 3: val_loss improved from 1.07843 to 0.91899, saving model to .\\model4_best_weights.h5\n",
      "27/27 [==============================] - 77s 3s/step - loss: 1.0612 - accuracy: 0.6595 - val_loss: 0.9190 - val_accuracy: 0.7358\n",
      "Epoch 4/50\n",
      "27/27 [==============================] - ETA: 0s - loss: 0.9288 - accuracy: 0.7095\n",
      "Epoch 4: val_loss improved from 0.91899 to 0.88405, saving model to .\\model4_best_weights.h5\n",
      "27/27 [==============================] - 77s 3s/step - loss: 0.9288 - accuracy: 0.7095 - val_loss: 0.8841 - val_accuracy: 0.7736\n",
      "Epoch 5/50\n",
      "27/27 [==============================] - ETA: 0s - loss: 0.8831 - accuracy: 0.7167\n",
      "Epoch 5: val_loss improved from 0.88405 to 0.84036, saving model to .\\model4_best_weights.h5\n",
      "27/27 [==============================] - 76s 3s/step - loss: 0.8831 - accuracy: 0.7167 - val_loss: 0.8404 - val_accuracy: 0.7547\n",
      "Epoch 6/50\n",
      "27/27 [==============================] - ETA: 0s - loss: 0.8296 - accuracy: 0.7381\n",
      "Epoch 6: val_loss did not improve from 0.84036\n",
      "27/27 [==============================] - 76s 3s/step - loss: 0.8296 - accuracy: 0.7381 - val_loss: 0.8656 - val_accuracy: 0.7358\n",
      "Epoch 7/50\n",
      "27/27 [==============================] - ETA: 0s - loss: 0.7675 - accuracy: 0.7631\n",
      "Epoch 7: val_loss improved from 0.84036 to 0.77671, saving model to .\\model4_best_weights.h5\n",
      "27/27 [==============================] - 77s 3s/step - loss: 0.7675 - accuracy: 0.7631 - val_loss: 0.7767 - val_accuracy: 0.7925\n",
      "Epoch 8/50\n",
      "27/27 [==============================] - ETA: 0s - loss: 0.7141 - accuracy: 0.7857\n",
      "Epoch 8: val_loss did not improve from 0.77671\n",
      "27/27 [==============================] - 76s 3s/step - loss: 0.7141 - accuracy: 0.7857 - val_loss: 0.7812 - val_accuracy: 0.7547\n",
      "Epoch 9/50\n",
      "27/27 [==============================] - ETA: 0s - loss: 0.7094 - accuracy: 0.7762\n",
      "Epoch 9: val_loss improved from 0.77671 to 0.72504, saving model to .\\model4_best_weights.h5\n",
      "27/27 [==============================] - 77s 3s/step - loss: 0.7094 - accuracy: 0.7762 - val_loss: 0.7250 - val_accuracy: 0.7925\n",
      "Epoch 10/50\n",
      "27/27 [==============================] - ETA: 0s - loss: 0.6992 - accuracy: 0.7774\n",
      "Epoch 10: val_loss did not improve from 0.72504\n",
      "27/27 [==============================] - 76s 3s/step - loss: 0.6992 - accuracy: 0.7774 - val_loss: 0.7441 - val_accuracy: 0.7547\n",
      "Epoch 11/50\n",
      "27/27 [==============================] - ETA: 0s - loss: 0.6637 - accuracy: 0.7976\n",
      "Epoch 11: val_loss did not improve from 0.72504\n",
      "27/27 [==============================] - 78s 3s/step - loss: 0.6637 - accuracy: 0.7976 - val_loss: 0.7356 - val_accuracy: 0.7736\n",
      "Epoch 12/50\n",
      "27/27 [==============================] - ETA: 0s - loss: 0.6320 - accuracy: 0.8071\n",
      "Epoch 12: val_loss improved from 0.72504 to 0.68261, saving model to .\\model4_best_weights.h5\n",
      "27/27 [==============================] - 77s 3s/step - loss: 0.6320 - accuracy: 0.8071 - val_loss: 0.6826 - val_accuracy: 0.8113\n",
      "Epoch 13/50\n",
      "27/27 [==============================] - ETA: 0s - loss: 0.6259 - accuracy: 0.7940\n",
      "Epoch 13: val_loss did not improve from 0.68261\n",
      "27/27 [==============================] - 76s 3s/step - loss: 0.6259 - accuracy: 0.7940 - val_loss: 0.6887 - val_accuracy: 0.7736\n",
      "Epoch 14/50\n",
      "27/27 [==============================] - ETA: 0s - loss: 0.5866 - accuracy: 0.8071\n",
      "Epoch 14: val_loss improved from 0.68261 to 0.66252, saving model to .\\model4_best_weights.h5\n",
      "27/27 [==============================] - 77s 3s/step - loss: 0.5866 - accuracy: 0.8071 - val_loss: 0.6625 - val_accuracy: 0.7736\n",
      "Epoch 15/50\n",
      "27/27 [==============================] - ETA: 0s - loss: 0.5960 - accuracy: 0.8071\n",
      "Epoch 15: val_loss did not improve from 0.66252\n",
      "27/27 [==============================] - 77s 3s/step - loss: 0.5960 - accuracy: 0.8071 - val_loss: 0.6957 - val_accuracy: 0.7925\n",
      "Epoch 16/50\n",
      "27/27 [==============================] - ETA: 0s - loss: 0.5842 - accuracy: 0.8214\n",
      "Epoch 16: val_loss did not improve from 0.66252\n",
      "27/27 [==============================] - 76s 3s/step - loss: 0.5842 - accuracy: 0.8214 - val_loss: 0.6902 - val_accuracy: 0.7736\n",
      "Epoch 17/50\n",
      "27/27 [==============================] - ETA: 0s - loss: 0.5386 - accuracy: 0.8298\n",
      "Epoch 17: val_loss did not improve from 0.66252\n",
      "27/27 [==============================] - 76s 3s/step - loss: 0.5386 - accuracy: 0.8298 - val_loss: 0.6917 - val_accuracy: 0.7547\n",
      "Epoch 18/50\n",
      "27/27 [==============================] - ETA: 0s - loss: 0.5404 - accuracy: 0.8250\n",
      "Epoch 18: val_loss improved from 0.66252 to 0.64541, saving model to .\\model4_best_weights.h5\n",
      "27/27 [==============================] - 76s 3s/step - loss: 0.5404 - accuracy: 0.8250 - val_loss: 0.6454 - val_accuracy: 0.8113\n",
      "Epoch 19/50\n",
      "27/27 [==============================] - ETA: 0s - loss: 0.5170 - accuracy: 0.8357\n",
      "Epoch 19: val_loss did not improve from 0.64541\n",
      "27/27 [==============================] - 76s 3s/step - loss: 0.5170 - accuracy: 0.8357 - val_loss: 0.6488 - val_accuracy: 0.8113\n",
      "Epoch 20/50\n",
      "27/27 [==============================] - ETA: 0s - loss: 0.4895 - accuracy: 0.8417\n",
      "Epoch 20: val_loss did not improve from 0.64541\n",
      "27/27 [==============================] - 76s 3s/step - loss: 0.4895 - accuracy: 0.8417 - val_loss: 0.6992 - val_accuracy: 0.7358\n",
      "Epoch 21/50\n",
      "27/27 [==============================] - ETA: 0s - loss: 0.4792 - accuracy: 0.8536\n",
      "Epoch 21: val_loss improved from 0.64541 to 0.63256, saving model to .\\model4_best_weights.h5\n",
      "27/27 [==============================] - 76s 3s/step - loss: 0.4792 - accuracy: 0.8536 - val_loss: 0.6326 - val_accuracy: 0.7925\n",
      "Epoch 22/50\n",
      "27/27 [==============================] - ETA: 0s - loss: 0.4720 - accuracy: 0.8548\n",
      "Epoch 22: val_loss did not improve from 0.63256\n",
      "27/27 [==============================] - 76s 3s/step - loss: 0.4720 - accuracy: 0.8548 - val_loss: 0.6525 - val_accuracy: 0.8113\n",
      "Epoch 23/50\n",
      "27/27 [==============================] - ETA: 0s - loss: 0.4604 - accuracy: 0.8571\n",
      "Epoch 23: val_loss did not improve from 0.63256\n",
      "27/27 [==============================] - 76s 3s/step - loss: 0.4604 - accuracy: 0.8571 - val_loss: 0.6516 - val_accuracy: 0.8113\n",
      "Epoch 24/50\n",
      "27/27 [==============================] - ETA: 0s - loss: 0.4532 - accuracy: 0.8500\n",
      "Epoch 24: val_loss did not improve from 0.63256\n",
      "27/27 [==============================] - 76s 3s/step - loss: 0.4532 - accuracy: 0.8500 - val_loss: 0.6411 - val_accuracy: 0.7736\n",
      "Epoch 25/50\n",
      "27/27 [==============================] - ETA: 0s - loss: 0.4260 - accuracy: 0.8690\n",
      "Epoch 25: val_loss did not improve from 0.63256\n",
      "27/27 [==============================] - 76s 3s/step - loss: 0.4260 - accuracy: 0.8690 - val_loss: 0.6512 - val_accuracy: 0.7925\n",
      "Epoch 26/50\n",
      "27/27 [==============================] - ETA: 0s - loss: 0.4114 - accuracy: 0.8774\n",
      "Epoch 26: val_loss improved from 0.63256 to 0.63171, saving model to .\\model4_best_weights.h5\n",
      "27/27 [==============================] - 76s 3s/step - loss: 0.4114 - accuracy: 0.8774 - val_loss: 0.6317 - val_accuracy: 0.8302\n",
      "Epoch 27/50\n",
      "27/27 [==============================] - ETA: 0s - loss: 0.4218 - accuracy: 0.8714\n",
      "Epoch 27: val_loss improved from 0.63171 to 0.60000, saving model to .\\model4_best_weights.h5\n",
      "27/27 [==============================] - 76s 3s/step - loss: 0.4218 - accuracy: 0.8714 - val_loss: 0.6000 - val_accuracy: 0.8113\n",
      "Epoch 28/50\n",
      "27/27 [==============================] - ETA: 0s - loss: 0.4102 - accuracy: 0.8762\n",
      "Epoch 28: val_loss did not improve from 0.60000\n",
      "27/27 [==============================] - 76s 3s/step - loss: 0.4102 - accuracy: 0.8762 - val_loss: 0.6809 - val_accuracy: 0.8113\n",
      "Epoch 29/50\n",
      "27/27 [==============================] - ETA: 0s - loss: 0.4153 - accuracy: 0.8750\n",
      "Epoch 29: val_loss did not improve from 0.60000\n",
      "27/27 [==============================] - 77s 3s/step - loss: 0.4153 - accuracy: 0.8750 - val_loss: 0.6569 - val_accuracy: 0.8113\n",
      "Epoch 30/50\n",
      "27/27 [==============================] - ETA: 0s - loss: 0.3948 - accuracy: 0.8833\n",
      "Epoch 30: val_loss did not improve from 0.60000\n",
      "27/27 [==============================] - 76s 3s/step - loss: 0.3948 - accuracy: 0.8833 - val_loss: 0.6425 - val_accuracy: 0.8113\n",
      "Epoch 31/50\n",
      "27/27 [==============================] - ETA: 0s - loss: 0.3792 - accuracy: 0.8798\n",
      "Epoch 31: val_loss did not improve from 0.60000\n",
      "27/27 [==============================] - 75s 3s/step - loss: 0.3792 - accuracy: 0.8798 - val_loss: 0.6181 - val_accuracy: 0.7925\n",
      "Epoch 32/50\n",
      "27/27 [==============================] - ETA: 0s - loss: 0.3773 - accuracy: 0.8750\n",
      "Epoch 32: val_loss did not improve from 0.60000\n",
      "27/27 [==============================] - 76s 3s/step - loss: 0.3773 - accuracy: 0.8750 - val_loss: 0.6310 - val_accuracy: 0.7736\n",
      "Epoch 32: early stopping\n"
     ]
    }
   ],
   "source": [
    "start_time = time.time() \n",
    "\n",
    "history4 = model4.fit(dataset_train,\n",
    "                validation_data=dataset_val,\n",
    "                batch_size=batch_size, epochs=50,\n",
    "                callbacks=callbacks_list, verbose=1)\n",
    "\n",
    "tps_exec_model4 = round(time.time() - start_time, 3)"
   ]
  },
  {
   "cell_type": "code",
   "execution_count": 249,
   "id": "OPsx5MLtkEqL",
   "metadata": {
    "colab": {
     "base_uri": "https://localhost:8080/"
    },
    "executionInfo": {
     "elapsed": 12971,
     "status": "ok",
     "timestamp": 1684520551079,
     "user": {
      "displayName": "raquel sanchez-pellicer",
      "userId": "01837362977323571967"
     },
     "user_tz": -120
    },
    "id": "OPsx5MLtkEqL",
    "outputId": "98c65d92-4c94-46b2-afca-047ea3b48d79"
   },
   "outputs": [
    {
     "name": "stdout",
     "output_type": "stream",
     "text": [
      "27/27 [==============================] - 71s 3s/step - loss: 0.2552 - accuracy: 0.9167\n",
      "Training Accuracy   : 0.9167\n",
      "\n",
      "2/2 [==============================] - 5s 2s/step - loss: 0.6310 - accuracy: 0.7736\n",
      "Validation Accuracy :  0.7736\n"
     ]
    }
   ],
   "source": [
    "# Score du dernier epoch\n",
    "\n",
    "loss, accuracy = model4.evaluate(dataset_train, verbose=True)\n",
    "print(\"Training Accuracy   : {:.4f}\".format(accuracy))\n",
    "print()\n",
    "loss, accuracy = model4.evaluate(dataset_val,verbose=True)\n",
    "print(\"Validation Accuracy :  {:.4f}\".format(accuracy))"
   ]
  },
  {
   "cell_type": "code",
   "execution_count": 250,
   "id": "7flwiSnSkEw-",
   "metadata": {
    "colab": {
     "base_uri": "https://localhost:8080/"
    },
    "executionInfo": {
     "elapsed": 10014,
     "status": "ok",
     "timestamp": 1684520561081,
     "user": {
      "displayName": "raquel sanchez-pellicer",
      "userId": "01837362977323571967"
     },
     "user_tz": -120
    },
    "id": "7flwiSnSkEw-",
    "outputId": "a5868aaa-fd33-401b-f8c2-1547ed05af1e"
   },
   "outputs": [
    {
     "name": "stdout",
     "output_type": "stream",
     "text": [
      "Validation Accuracy :  0.8113\n",
      "Test Accuracy       :  0.7707\n"
     ]
    }
   ],
   "source": [
    "# Score de l'epoch optimal\n",
    "\n",
    "model4.load_weights(model4_save_path)\n",
    "\n",
    "loss_vali_model4, accuracy_vali_model4 = model4.evaluate(dataset_val,\n",
    "                                                         verbose=False)\n",
    "print(\"Validation Accuracy :  {:.4f}\".format(accuracy_vali_model4))\n",
    "\n",
    "loss_test_model4, accuracy_test_model4 = model4.evaluate(dataset_test,\n",
    "                                                         verbose=False)\n",
    "print(\"Test Accuracy       :  {:.4f}\".format(accuracy_test_model4))"
   ]
  },
  {
   "cell_type": "code",
   "execution_count": 334,
   "id": "65186b95-b4f5-4068-a36c-dc6b7fb32393",
   "metadata": {},
   "outputs": [
    {
     "data": {
      "image/png": "[encoded data removed]",
      "text/plain": [
       "<Figure size 600x400 with 2 Axes>"
      ]
     },
     "metadata": {},
     "output_type": "display_data"
    },
    {
     "name": "stdout",
     "output_type": "stream",
     "text": [
      "              precision    recall  f1-score   support\n",
      "\n",
      "           0       0.74      0.74      0.74        23\n",
      "           1       0.74      0.74      0.74        23\n",
      "           2       0.72      0.59      0.65        22\n",
      "           3       0.73      0.73      0.73        22\n",
      "           4       0.75      0.82      0.78        22\n",
      "           5       0.90      0.78      0.84        23\n",
      "           6       0.81      1.00      0.90        22\n",
      "\n",
      "    accuracy                           0.77       157\n",
      "   macro avg       0.77      0.77      0.77       157\n",
      "weighted avg       0.77      0.77      0.77       157\n",
      "\n"
     ]
    },
    {
     "data": {
      "text/plain": [
       "(0.16034257464332238, 0.1592356687898089, 0.15895251561211263, None)"
      ]
     },
     "execution_count": 334,
     "metadata": {},
     "output_type": "execute_result"
    }
   ],
   "source": [
    "evaluate_model_dataset(model4, dataset_test, name=\"model4\")"
   ]
  },
  {
   "cell_type": "code",
   "execution_count": 251,
   "id": "ZHQdkSnq3g6G",
   "metadata": {
    "executionInfo": {
     "elapsed": 5,
     "status": "ok",
     "timestamp": 1684520561082,
     "user": {
      "displayName": "raquel sanchez-pellicer",
      "userId": "01837362977323571967"
     },
     "user_tz": -120
    },
    "id": "ZHQdkSnq3g6G"
   },
   "outputs": [],
   "source": [
    "# Information à garder pour la comparaison des performances\n",
    "\n",
    "approach.append(\"New_approach_with_dataAugm\")\n",
    "loss_vali_opt.append(loss_vali_model4)\n",
    "accuracy_vali_opt.append(accuracy_vali_model4)\n",
    "loss_test_opt.append(loss_test_model4)\n",
    "accuracy_test_opt.append(accuracy_test_model4)\n",
    "time_fit.append(tps_exec_model4)"
   ]
  },
  {
   "cell_type": "code",
   "execution_count": 252,
   "id": "YwfmvU9ujcWy",
   "metadata": {
    "colab": {
     "base_uri": "https://localhost:8080/",
     "height": 528
    },
    "executionInfo": {
     "elapsed": 1203,
     "status": "ok",
     "timestamp": 1684520562282,
     "user": {
      "displayName": "raquel sanchez-pellicer",
      "userId": "01837362977323571967"
     },
     "user_tz": -120
    },
    "id": "YwfmvU9ujcWy",
    "outputId": "aaa9c8d5-8073-4378-bcd6-47454a4b6b30"
   },
   "outputs": [
    {
     "data": {
      "image/png": "[encoded data removed]",
      "text/plain": [
       "<Figure size 1000x500 with 2 Axes>"
      ]
     },
     "metadata": {},
     "output_type": "display_data"
    }
   ],
   "source": [
    "show_history(history4)\n",
    "plot_history(history4, path=\"standard.png\")\n",
    "plt.savefig(\"images/graph/history_plot_model4.png\")\n",
    "plt.close()"
   ]
  },
  {
   "cell_type": "markdown",
   "id": "YsIRMcrOl4nm",
   "metadata": {
    "id": "YsIRMcrOl4nm"
   },
   "source": [
    "<div style=\"background-color: #229954;\" >\n",
    "    <h2 style=\"margin: auto; padding: 20px; color:#fff; \">4. Comparaison des performances</h2>\n",
    "</div>"
   ]
  },
  {
   "cell_type": "code",
   "execution_count": 256,
   "id": "ViGtgeOxjccS",
   "metadata": {
    "executionInfo": {
     "elapsed": 33,
     "status": "ok",
     "timestamp": 1684520562284,
     "user": {
      "displayName": "raquel sanchez-pellicer",
      "userId": "01837362977323571967"
     },
     "user_tz": -120
    },
    "id": "ViGtgeOxjccS"
   },
   "outputs": [],
   "source": [
    "df_compar_perf = pd.DataFrame({\n",
    "        \"Approche\": approach,\n",
    "        \"Loss_validation\": loss_vali_opt,\n",
    "        \"Accuracy_validation\": accuracy_vali_opt,\n",
    "        \"Loss_test\": loss_test_opt,\n",
    "        \"Accuracy_test\": accuracy_test_opt,\n",
    "        \"fit_time\": time_fit}                     )"
   ]
  },
  {
   "cell_type": "code",
   "execution_count": 257,
   "id": "S1vIIo8ijLBM",
   "metadata": {
    "colab": {
     "base_uri": "https://localhost:8080/",
     "height": 175
    },
    "executionInfo": {
     "elapsed": 29,
     "status": "ok",
     "timestamp": 1684520562284,
     "user": {
      "displayName": "raquel sanchez-pellicer",
      "userId": "01837362977323571967"
     },
     "user_tz": -120
    },
    "id": "S1vIIo8ijLBM",
    "outputId": "5a6ade3a-20cf-4982-c934-8b958ea2b8dc"
   },
   "outputs": [
    {
     "data": {
      "text/html": [
       "<div>\n",
       "<style scoped>\n",
       "    .dataframe tbody tr th:only-of-type {\n",
       "        vertical-align: middle;\n",
       "    }\n",
       "\n",
       "    .dataframe tbody tr th {\n",
       "        vertical-align: top;\n",
       "    }\n",
       "\n",
       "    .dataframe thead th {\n",
       "        text-align: right;\n",
       "    }\n",
       "</style>\n",
       "<table border=\"1\" class=\"dataframe\">\n",
       "  <thead>\n",
       "    <tr style=\"text-align: right;\">\n",
       "      <th></th>\n",
       "      <th>Approche</th>\n",
       "      <th>Loss_validation</th>\n",
       "      <th>Accuracy_validation</th>\n",
       "      <th>Loss_test</th>\n",
       "      <th>Accuracy_test</th>\n",
       "      <th>fit_time</th>\n",
       "    </tr>\n",
       "  </thead>\n",
       "  <tbody>\n",
       "    <tr>\n",
       "      <th>3</th>\n",
       "      <td>New_approach_with_dataAugm</td>\n",
       "      <td>0.599996</td>\n",
       "      <td>0.811321</td>\n",
       "      <td>0.714912</td>\n",
       "      <td>0.770701</td>\n",
       "      <td>2449.095</td>\n",
       "    </tr>\n",
       "    <tr>\n",
       "      <th>0</th>\n",
       "      <td>Prep_Init</td>\n",
       "      <td>0.785153</td>\n",
       "      <td>0.830189</td>\n",
       "      <td>0.837066</td>\n",
       "      <td>0.808917</td>\n",
       "      <td>886.849</td>\n",
       "    </tr>\n",
       "    <tr>\n",
       "      <th>2</th>\n",
       "      <td>New_approach_without_dataAugm</td>\n",
       "      <td>0.496663</td>\n",
       "      <td>0.811321</td>\n",
       "      <td>1.183772</td>\n",
       "      <td>0.815287</td>\n",
       "      <td>829.429</td>\n",
       "    </tr>\n",
       "    <tr>\n",
       "      <th>1</th>\n",
       "      <td>ImgDataGenerator</td>\n",
       "      <td>0.797854</td>\n",
       "      <td>0.773585</td>\n",
       "      <td>0.902380</td>\n",
       "      <td>0.821656</td>\n",
       "      <td>747.740</td>\n",
       "    </tr>\n",
       "  </tbody>\n",
       "</table>\n",
       "</div>"
      ],
      "text/plain": [
       "                        Approche  Loss_validation  Accuracy_validation  \\\n",
       "3     New_approach_with_dataAugm         0.599996             0.811321   \n",
       "0                      Prep_Init         0.785153             0.830189   \n",
       "2  New_approach_without_dataAugm         0.496663             0.811321   \n",
       "1               ImgDataGenerator         0.797854             0.773585   \n",
       "\n",
       "   Loss_test  Accuracy_test  fit_time  \n",
       "3   0.714912       0.770701  2449.095  \n",
       "0   0.837066       0.808917   886.849  \n",
       "2   1.183772       0.815287   829.429  \n",
       "1   0.902380       0.821656   747.740  "
      ]
     },
     "execution_count": 257,
     "metadata": {},
     "output_type": "execute_result"
    }
   ],
   "source": [
    "df_compar_perf=df_compar_perf.sort_values(by=\"Accuracy_test\")\n",
    "df_compar_perf"
   ]
  },
  {
   "cell_type": "code",
   "execution_count": 277,
   "id": "mLFbVk3438mz",
   "metadata": {
    "colab": {
     "base_uri": "https://localhost:8080/",
     "height": 543
    },
    "executionInfo": {
     "elapsed": 26,
     "status": "ok",
     "timestamp": 1684520562285,
     "user": {
      "displayName": "raquel sanchez-pellicer",
      "userId": "01837362977323571967"
     },
     "user_tz": -120
    },
    "id": "mLFbVk3438mz",
    "outputId": "91e02441-56fe-4e55-e96a-595a05cdd9b0"
   },
   "outputs": [
    {
     "data": {
      "image/png": "[encoded data removed]",
      "text/plain": [
       "<Figure size 1500x600 with 2 Axes>"
      ]
     },
     "metadata": {},
     "output_type": "display_data"
    }
   ],
   "source": [
    "# Comparaison des algorithmes\n",
    "comparaison_melt_wo_ft = pd.melt(df_compar_perf, id_vars=[\"Approche\"],\n",
    "                           value_name=\"score\", value_vars=[\"Loss_validation\",\n",
    "                                                           \"Accuracy_validation\",\n",
    "                                                           \"Loss_test\",\n",
    "                                                           \"Accuracy_test\"\n",
    "                                                           ])\n",
    "comparaison_melt_ft = pd.melt(df_compar_perf, id_vars=[\"Approche\"],\n",
    "                           value_name=\"score\", value_vars=[\"fit_time\"])\n",
    "\n",
    "# Visualisation\n",
    "plt.figure(figsize=(15, 6))\n",
    "\n",
    "sns.barplot(data=comparaison_melt_wo_ft,\n",
    "            x=comparaison_melt_wo_ft[\"Approche\"],\n",
    "            y=comparaison_melt_wo_ft[\"score\"], hue=comparaison_melt_wo_ft[\"variable\"],\n",
    "            palette=[\"#222b8f\", \"#e6792e\", \"#64b5d5\", \"#ffa600\"])\n",
    "# Creating secondary y-axis for fit_time\n",
    "ax2 = plt.twinx()\n",
    "sns.lineplot(x=\"Approche\", y=\"score\", hue=\"variable\",\n",
    "             data=comparaison_melt_ft,\n",
    "             palette=[\"#000000\"], ax=ax2)\n",
    "plt.title(\"Comparaison des performances des approches\", fontsize=12)\n",
    "plt.legend(bbox_to_anchor=(1.05, 1), loc=2, borderaxespad=0., fontsize=10)\n",
    "ax2.set_ylabel(\"Time\")\n",
    "plt.savefig(\"images/graph/perf_comparing_N3.png\")\n",
    "plt.show()"
   ]
  },
  {
   "cell_type": "code",
   "execution_count": 264,
   "id": "0f3ef765-bbca-4ab0-862a-e6f55bf2796e",
   "metadata": {},
   "outputs": [
    {
     "data": {
      "text/plain": [
       "(20, 3)"
      ]
     },
     "execution_count": 264,
     "metadata": {},
     "output_type": "execute_result"
    }
   ],
   "source": [
    "comparaison_melt.shape"
   ]
  },
  {
   "cell_type": "code",
   "execution_count": 270,
   "id": "527b7632-efdf-47f4-a74f-ae9317402ea2",
   "metadata": {},
   "outputs": [
    {
     "data": {
      "text/plain": [
       "(16, 3)"
      ]
     },
     "execution_count": 270,
     "metadata": {},
     "output_type": "execute_result"
    }
   ],
   "source": [
    "comparaison_melt_v2.shape"
   ]
  },
  {
   "cell_type": "code",
   "execution_count": null,
   "id": "18ea9267-96ed-44aa-901a-3ede2c0a5d81",
   "metadata": {},
   "outputs": [],
   "source": []
  }
 ],
 "metadata": {
  "accelerator": "GPU",
  "colab": {
   "gpuType": "T4",
   "provenance": [
    {
     "file_id": "1-Mjbvo7aEI_YL0fk_hSLkvdF8PY9buec",
     "timestamp": 1684507288845
    },
    {
     "file_id": "1VbMUMSGltJn_XESZE5g0sesdukEItM8o",
     "timestamp": 1683729636452
    }
   ],
   "toc_visible": true
  },
  "gpuClass": "standard",
  "kernelspec": {
   "display_name": "Python 3 (ipykernel)",
   "language": "python",
   "name": "python3"
  },
  "language_info": {
   "codemirror_mode": {
    "name": "ipython",
    "version": 3
   },
   "file_extension": ".py",
   "mimetype": "text/x-python",
   "name": "python",
   "nbconvert_exporter": "python",
   "pygments_lexer": "ipython3",
   "version": "3.11.4"
  },
  "toc-autonumbering": true
 },
 "nbformat": 4,
 "nbformat_minor": 5
}
